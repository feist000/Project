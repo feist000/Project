{
  "nbformat": 4,
  "nbformat_minor": 0,
  "metadata": {
    "kernelspec": {
      "display_name": "Python 3",
      "language": "python",
      "name": "python3"
    },
    "language_info": {
      "codemirror_mode": {
        "name": "ipython",
        "version": 3
      },
      "file_extension": ".py",
      "mimetype": "text/x-python",
      "name": "python",
      "nbconvert_exporter": "python",
      "pygments_lexer": "ipython3",
      "version": "3.7.7"
    },
    "colab": {
      "name": "인스타그램_크롤링_upgrade.ver.ipynb",
      "provenance": [],
      "collapsed_sections": [],
      "toc_visible": true,
      "include_colab_link": true
    }
  },
  "cells": [
    {
      "cell_type": "markdown",
      "metadata": {
        "id": "view-in-github",
        "colab_type": "text"
      },
      "source": [
        "<a href=\"https://colab.research.google.com/github/feist000/Project/blob/master/%ED%86%B5%EA%B3%84%EC%B2%AD%20'%ED%9E%99%EC%A7%80%EB%A1%9C'%20%EB%B6%84%EC%84%9D%20%EB%B3%B4%EA%B3%A0%EC%84%9C/%EC%9D%B8%EC%8A%A4%ED%83%80%EA%B7%B8%EB%9E%A8_%ED%81%AC%EB%A1%A4%EB%A7%81_upgrade_ver.ipynb\" target=\"_parent\"><img src=\"https://colab.research.google.com/assets/colab-badge.svg\" alt=\"Open In Colab\"/></a>"
      ]
    },
    {
      "cell_type": "markdown",
      "metadata": {
        "id": "LwehHUbQAOnK",
        "colab_type": "text"
      },
      "source": [
        "## < 이전 크롤링 코드 대비 개선점 >\n",
        "* 메모리 초과로 사이트 다운 되는 상황을 막기 위해 대용량 외장하드로 저장 경로 변경\n",
        "* print() 문을 삭제하고, 바로 csv 파일로 저장하게끔 설정 "
      ]
    },
    {
      "cell_type": "code",
      "metadata": {
        "id": "aPgkUOwIANV3",
        "colab_type": "code",
        "colab": {}
      },
      "source": [
        "from selenium import webdriver\n",
        "from selenium.webdriver.common.keys import Keys\n",
        "from time import sleep\n",
        "import pandas as pd"
      ],
      "execution_count": null,
      "outputs": []
    },
    {
      "cell_type": "markdown",
      "metadata": {
        "id": "ER-uj2kAAp8I",
        "colab_type": "text"
      },
      "source": [
        "## 1) '을지로카페' 자동 검색 "
      ]
    },
    {
      "cell_type": "code",
      "metadata": {
        "id": "JUqfgctbANWA",
        "colab_type": "code",
        "colab": {}
      },
      "source": [
        "import requests\n",
        "from selenium import webdriver as wd \n",
        "import time\n",
        "import re\n",
        "\n",
        "keyword = \"을지로카페\"\n",
        "url = \"https://www.instagram.com/explore/tags/{}/\".format(keyword)\n",
        "instagram_tags = []\n",
        "driver = wd.Chrome()\n",
        "driver.get(url)\n",
        "\n",
        "time.sleep(3)"
      ],
      "execution_count": null,
      "outputs": []
    },
    {
      "cell_type": "code",
      "metadata": {
        "id": "eszkZA24ANWH",
        "colab_type": "code",
        "colab": {}
      },
      "source": [
        "instagram_tags = []\n",
        "driver.find_element_by_css_selector('div._9AhH0').click()"
      ],
      "execution_count": null,
      "outputs": []
    },
    {
      "cell_type": "markdown",
      "metadata": {
        "id": "xO3vkih8A07v",
        "colab_type": "text"
      },
      "source": [
        "## 2) 자동 로그인 및 추가 팝업창 설정"
      ]
    },
    {
      "cell_type": "code",
      "metadata": {
        "id": "VqAT3D_JANWM",
        "colab_type": "code",
        "colab": {}
      },
      "source": [
        "id = '인스타그램 id''\n",
        "password = '인스타그램 password'\n",
        "id_input = driver.find_elements_by_css_selector('#loginForm > div > div:nth-child(1) > div > label > input')[0]\n",
        "id_input.send_keys(id)\n",
        "password_input = driver.find_elements_by_css_selector('#loginForm > div > div:nth-child(2) > div > label > input')[0]\n",
        "password_input.send_keys(password)\n",
        "password_input.submit()\n",
        "\n",
        "time.sleep(3)\n",
        "\n",
        "driver.find_element_by_xpath('//*[@id=\"react-root\"]/section/main/div/div/div/div/button').click()"
      ],
      "execution_count": null,
      "outputs": []
    },
    {
      "cell_type": "markdown",
      "metadata": {
        "id": "PUX2VAG_A7Im",
        "colab_type": "text"
      },
      "source": [
        "## 3) 첫번째 게시물 클릭"
      ]
    },
    {
      "cell_type": "code",
      "metadata": {
        "id": "Q_dF-5XeANWU",
        "colab_type": "code",
        "colab": {}
      },
      "source": [
        "driver.find_element_by_css_selector('div._9AhH0').click()"
      ],
      "execution_count": null,
      "outputs": []
    },
    {
      "cell_type": "markdown",
      "metadata": {
        "id": "ZNFW2_qhA9-g",
        "colab_type": "text"
      },
      "source": [
        "##4) 해시태그 크롤링 시작"
      ]
    },
    {
      "cell_type": "code",
      "metadata": {
        "id": "1l9Hdtd8ANWc",
        "colab_type": "code",
        "colab": {}
      },
      "source": [
        "\n",
        "for z in range(12000):\n",
        "    try :\n",
        "        time.sleep(2)\n",
        "\n",
        "        data = driver.find_element_by_css_selector('.C7I1f.X7jCj') \n",
        "        #print(data.text)\n",
        "        tag_raw = data.text\n",
        "        #print(' tag_raw = ', tag_raw , 'tag_raw')\n",
        "        tags = re.findall('#[A-Za-z0-9가-힣]+', tag_raw)\n",
        "        #print('tags ',tags, 'tags!!!')\n",
        "        tag = ''.join(tags).replace(\"#\",\" \") # \"#\" 제거\n",
        "        #print('tag!!', tag, '**')\n",
        "        tag_data = tag.split()\n",
        "        #print('tag_data!!',tag_data, 'tag_data!!')\n",
        "\n",
        "        for tag_one in tag_data:\n",
        "\n",
        "            instagram_tags.append(tag_one)\n",
        "        #print('****',instagram_tags,'insta')\n",
        "\n",
        "\n",
        "        time.sleep(2)\n",
        "\n",
        "    except :\n",
        "        pass\n",
        "    \n",
        "    driver.find_element_by_css_selector('a._65Bje.coreSpriteRightPaginationArrow').click()\n",
        "    \n",
        "    if len(instagram_tags) > 3000 :\n",
        "        insta = pd.DataFrame(instagram_tags)\n",
        "        insta.to_csv('D:/Data/insta{%s}.csv' % z)     \n",
        "        instagram_tags = []\n",
        "    "
      ],
      "execution_count": null,
      "outputs": []
    },
    {
      "cell_type": "markdown",
      "metadata": {
        "id": "FamsN5mDBC1s",
        "colab_type": "text"
      },
      "source": [
        "## 5) 지정경로에 자동 csv 파일로 저장"
      ]
    },
    {
      "cell_type": "markdown",
      "metadata": {
        "id": "AZj8fhg7BGXd",
        "colab_type": "text"
      },
      "source": [
        "#**< 결론 >**\n",
        "\n",
        "\n",
        "> 기존 코드로는 게시글 1,000개 해시태그만 뽑아도 메모리 부족 에러가 떴으나 1. print()문 제거 2. 저장경로 변경 3. 바로 csv 파일로 저장 하는 방식 추가를 통해 10,000개가 넘는 데이터를 크롤링해도 에러가 뜨지 않는 것을 확인할 수 있었다. 추후, 추출된 데이터를 이용한 워드크라우드 시각화를 통해 '을지로' 검색 시, 어떤 키워드들이 해시태그를 통해 제일 많이 언급되는 지를 파악할 예정이다.\n",
        "\n"
      ]
    }
  ]
}