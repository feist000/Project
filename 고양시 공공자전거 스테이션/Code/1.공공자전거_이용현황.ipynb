{
  "nbformat": 4,
  "nbformat_minor": 0,
  "metadata": {
    "kernelspec": {
      "display_name": "Python 3",
      "language": "python",
      "name": "python3"
    },
    "language_info": {
      "codemirror_mode": {
        "name": "ipython",
        "version": 3
      },
      "file_extension": ".py",
      "mimetype": "text/x-python",
      "name": "python",
      "nbconvert_exporter": "python",
      "pygments_lexer": "ipython3",
      "version": "3.6.9"
    },
    "colab": {
      "name": "1. 공공 자전거 이용 현황.ipynb",
      "provenance": [],
      "include_colab_link": true
    }
  },
  "cells": [
    {
      "cell_type": "markdown",
      "metadata": {
        "id": "view-in-github",
        "colab_type": "text"
      },
      "source": [
        "<a href=\"https://colab.research.google.com/github/feist000/Project/blob/master/%EA%B3%A0%EC%96%91%EC%8B%9C%20%EA%B3%B5%EA%B3%B5%EC%9E%90%EC%A0%84%EA%B1%B0%20%EC%8A%A4%ED%85%8C%EC%9D%B4%EC%85%98/1_%EA%B3%B5%EA%B3%B5_%EC%9E%90%EC%A0%84%EA%B1%B0_%EC%9D%B4%EC%9A%A9_%ED%98%84%ED%99%A9.ipynb\" target=\"_parent\"><img src=\"https://colab.research.google.com/assets/colab-badge.svg\" alt=\"Open In Colab\"/></a>"
      ]
    },
    {
      "cell_type": "markdown",
      "metadata": {
        "id": "jl_SqQh6I3C-",
        "colab_type": "text"
      },
      "source": [
        "# 1. 공공 자전거 스테이션 현황\n",
        " ##\t\t1) 시간대별 이용 현황 \t\n",
        " ##\t\t2) 시간대별 사용빈도가  높은 대여/반납 스테이션 위치\n",
        " ##    3) 사용량에 따른 자전거스테이션 위치"
      ]
    },
    {
      "cell_type": "code",
      "metadata": {
        "id": "LrQj0zUEI3DA",
        "colab_type": "code",
        "colab": {},
        "outputId": "4adbdd35-56a8-4e22-9014-f567eaacca09"
      },
      "source": [
        "import pathlib\n",
        "import random\n",
        "from functools import reduce\n",
        "from collections import defaultdict\n",
        "\n",
        "import pandas as pd\n",
        "import geopandas as gpd\n",
        "import folium\n",
        "import shapely\n",
        "import numpy as np\n",
        "from IPython.display import display\n",
        "import matplotlib.pyplot as plt\n",
        "from tqdm.notebook import tqdm\n",
        "import xgboost\n",
        "import sklearn.cluster\n",
        "import tensorflow as tf\n",
        "\n",
        "from geoband import API"
      ],
      "execution_count": null,
      "outputs": [
        {
          "output_type": "stream",
          "text": [
            "/opt/app-root/lib/python3.6/site-packages/dask/dataframe/utils.py:15: FutureWarning: pandas.util.testing is deprecated. Use the functions in the public API at pandas.testing instead.\n",
            "  import pandas.util.testing as tm\n"
          ],
          "name": "stderr"
        }
      ]
    },
    {
      "cell_type": "code",
      "metadata": {
        "id": "lSCKmeMEI3DJ",
        "colab_type": "code",
        "colab": {},
        "outputId": "cb07c6ea-6243-40c2-cb68-cec23a3423a6"
      },
      "source": [
        "# 데이터 읽어오기\n",
        "input_path = pathlib.Path('./input')\n",
        "if not input_path.is_dir():\n",
        "    input_path.mkdir()\n",
        "\n",
        "API.GetCompasData('SBJ_2007_001', '1', input_path.joinpath('01.운영이력.csv'))\n",
        "API.GetCompasData('SBJ_2007_001', '2', input_path.joinpath('02.자전거스테이션.csv'))\n",
        "API.GetCompasData('SBJ_2007_001', '6', input_path.joinpath('17.일반건물 분포도(100M X 100M).geojson'))\n",
        "API.GetCompasData('SBJ_2007_001', '15', input_path.joinpath('15.도로명주소_건물.geojson'))\n",
        "API.GetCompasData('SBJ_2007_001', '16', input_path.joinpath('16.도로명주소_도로.geojson'))\n",
        "API.GetCompasData('SBJ_2007_001', '19', input_path.joinpath('19.전철역_공간정보.csv'))\n",
        "API.GetCompasData('SBJ_2007_001', '20', input_path.joinpath('20.고양시 버스정류소.csv'))\n",
        "\n",
        "for path in list(input_path.glob('*.csv')) + list(input_path.glob('*.geojson')):\n",
        "    print(path)"
      ],
      "execution_count": null,
      "outputs": [
        {
          "output_type": "stream",
          "text": [
            "input/01.운영이력.csv\n",
            "input/02.자전거스테이션.csv\n",
            "input/19.전철역_공간정보.csv\n",
            "input/20.고양시 버스정류소.csv\n",
            "input/07.인구통계.csv\n",
            "input/운영이력.csv\n",
            "input/자전거스테이션.csv\n",
            "input/전철역_공간정보.csv\n",
            "input/고양시 버스정류소.csv\n",
            "input/17.일반건물 분포도(100M X 100M).geojson\n",
            "input/15.도로명주소_건물.geojson\n",
            "input/16.도로명주소_도로.geojson\n",
            "input/06.인구(거주)분포도(100M_X_100M).geojson\n",
            "input/일반건물 분포도(100M X 100M).geojson\n",
            "input/도로명주소_건물.geojson\n",
            "input/도로명주소_도로.geojson\n",
            "input/34.고양시_행정경계(행정동기준).geojson\n"
          ],
          "name": "stdout"
        }
      ]
    },
    {
      "cell_type": "code",
      "metadata": {
        "id": "P-CjV6xgI3DO",
        "colab_type": "code",
        "colab": {},
        "outputId": "49031c0e-0090-4c90-87aa-c844d975a062"
      },
      "source": [
        "bicycle_now=pd.read_csv(input_path.joinpath('01.운영이력.csv'))"
      ],
      "execution_count": null,
      "outputs": [
        {
          "output_type": "stream",
          "text": [
            "/opt/app-root/lib/python3.6/site-packages/IPython/core/interactiveshell.py:3072: DtypeWarning: Columns (9) have mixed types.Specify dtype option on import or set low_memory=False.\n",
            "  interactivity=interactivity, compiler=compiler, result=result)\n"
          ],
          "name": "stderr"
        }
      ]
    },
    {
      "cell_type": "code",
      "metadata": {
        "id": "DyQV0AeZI3DT",
        "colab_type": "code",
        "colab": {},
        "outputId": "a39ea1e2-01ad-4b3c-cf83-35179d60000d"
      },
      "source": [
        "bicycle_now.describe(include='all')"
      ],
      "execution_count": null,
      "outputs": [
        {
          "output_type": "execute_result",
          "data": {
            "text/html": [
              "<div>\n",
              "<style scoped>\n",
              "    .dataframe tbody tr th:only-of-type {\n",
              "        vertical-align: middle;\n",
              "    }\n",
              "\n",
              "    .dataframe tbody tr th {\n",
              "        vertical-align: top;\n",
              "    }\n",
              "\n",
              "    .dataframe thead th {\n",
              "        text-align: right;\n",
              "    }\n",
              "</style>\n",
              "<table border=\"1\" class=\"dataframe\">\n",
              "  <thead>\n",
              "    <tr style=\"text-align: right;\">\n",
              "      <th></th>\n",
              "      <th>LEAS_NO</th>\n",
              "      <th>LEAS_STAT</th>\n",
              "      <th>LEAS_DATE</th>\n",
              "      <th>LEAS_STATION</th>\n",
              "      <th>LEAS_DEF_NO</th>\n",
              "      <th>RTN_DATE</th>\n",
              "      <th>RTN_STATION</th>\n",
              "      <th>RTN_DEF_NO</th>\n",
              "      <th>TRNV_QTY</th>\n",
              "      <th>MEMB_DIV</th>\n",
              "      <th>MEMB_NO</th>\n",
              "      <th>TEMP_MEMB_NO</th>\n",
              "      <th>BIKE_TAG</th>\n",
              "      <th>RTN_PROCESS</th>\n",
              "    </tr>\n",
              "  </thead>\n",
              "  <tbody>\n",
              "    <tr>\n",
              "      <th>count</th>\n",
              "      <td>3.142688e+06</td>\n",
              "      <td>3142688.0</td>\n",
              "      <td>3142688</td>\n",
              "      <td>3.142688e+06</td>\n",
              "      <td>3.142688e+06</td>\n",
              "      <td>3142688</td>\n",
              "      <td>3.142688e+06</td>\n",
              "      <td>3.142688e+06</td>\n",
              "      <td>2.747029e+06</td>\n",
              "      <td>3142688.0</td>\n",
              "      <td>3.142688e+06</td>\n",
              "      <td>3.142685e+06</td>\n",
              "      <td>3142688</td>\n",
              "      <td>410039.000000</td>\n",
              "    </tr>\n",
              "    <tr>\n",
              "      <th>unique</th>\n",
              "      <td>NaN</td>\n",
              "      <td>NaN</td>\n",
              "      <td>3056724</td>\n",
              "      <td>NaN</td>\n",
              "      <td>NaN</td>\n",
              "      <td>3044089</td>\n",
              "      <td>NaN</td>\n",
              "      <td>NaN</td>\n",
              "      <td>NaN</td>\n",
              "      <td>31.0</td>\n",
              "      <td>NaN</td>\n",
              "      <td>NaN</td>\n",
              "      <td>3932</td>\n",
              "      <td>NaN</td>\n",
              "    </tr>\n",
              "    <tr>\n",
              "      <th>top</th>\n",
              "      <td>NaN</td>\n",
              "      <td>NaN</td>\n",
              "      <td>2019-05-08 18:19:21</td>\n",
              "      <td>NaN</td>\n",
              "      <td>NaN</td>\n",
              "      <td>2019-10-14 19:00:06</td>\n",
              "      <td>NaN</td>\n",
              "      <td>NaN</td>\n",
              "      <td>NaN</td>\n",
              "      <td>3.0</td>\n",
              "      <td>NaN</td>\n",
              "      <td>NaN</td>\n",
              "      <td>1A8440000002DC</td>\n",
              "      <td>NaN</td>\n",
              "    </tr>\n",
              "    <tr>\n",
              "      <th>freq</th>\n",
              "      <td>NaN</td>\n",
              "      <td>NaN</td>\n",
              "      <td>4</td>\n",
              "      <td>NaN</td>\n",
              "      <td>NaN</td>\n",
              "      <td>23</td>\n",
              "      <td>NaN</td>\n",
              "      <td>NaN</td>\n",
              "      <td>NaN</td>\n",
              "      <td>816117.0</td>\n",
              "      <td>NaN</td>\n",
              "      <td>NaN</td>\n",
              "      <td>2891</td>\n",
              "      <td>NaN</td>\n",
              "    </tr>\n",
              "    <tr>\n",
              "      <th>mean</th>\n",
              "      <td>1.882270e+07</td>\n",
              "      <td>2.0</td>\n",
              "      <td>NaN</td>\n",
              "      <td>2.487533e+02</td>\n",
              "      <td>1.335679e+01</td>\n",
              "      <td>NaN</td>\n",
              "      <td>2.175205e+02</td>\n",
              "      <td>1.119356e+01</td>\n",
              "      <td>4.895855e+03</td>\n",
              "      <td>NaN</td>\n",
              "      <td>1.315026e+05</td>\n",
              "      <td>9.174356e+05</td>\n",
              "      <td>NaN</td>\n",
              "      <td>1.121984</td>\n",
              "    </tr>\n",
              "    <tr>\n",
              "      <th>std</th>\n",
              "      <td>1.674327e+06</td>\n",
              "      <td>0.0</td>\n",
              "      <td>NaN</td>\n",
              "      <td>6.367190e+01</td>\n",
              "      <td>7.404129e+00</td>\n",
              "      <td>NaN</td>\n",
              "      <td>1.017983e+02</td>\n",
              "      <td>8.703353e+00</td>\n",
              "      <td>1.264047e+04</td>\n",
              "      <td>NaN</td>\n",
              "      <td>9.720860e+04</td>\n",
              "      <td>1.587276e+06</td>\n",
              "      <td>NaN</td>\n",
              "      <td>0.590959</td>\n",
              "    </tr>\n",
              "    <tr>\n",
              "      <th>min</th>\n",
              "      <td>1.594554e+07</td>\n",
              "      <td>2.0</td>\n",
              "      <td>NaN</td>\n",
              "      <td>1.010000e+02</td>\n",
              "      <td>1.000000e+00</td>\n",
              "      <td>NaN</td>\n",
              "      <td>0.000000e+00</td>\n",
              "      <td>0.000000e+00</td>\n",
              "      <td>0.000000e+00</td>\n",
              "      <td>NaN</td>\n",
              "      <td>0.000000e+00</td>\n",
              "      <td>0.000000e+00</td>\n",
              "      <td>NaN</td>\n",
              "      <td>1.000000</td>\n",
              "    </tr>\n",
              "    <tr>\n",
              "      <th>25%</th>\n",
              "      <td>1.735176e+07</td>\n",
              "      <td>2.0</td>\n",
              "      <td>NaN</td>\n",
              "      <td>2.130000e+02</td>\n",
              "      <td>8.000000e+00</td>\n",
              "      <td>NaN</td>\n",
              "      <td>2.030000e+02</td>\n",
              "      <td>3.000000e+00</td>\n",
              "      <td>0.000000e+00</td>\n",
              "      <td>NaN</td>\n",
              "      <td>0.000000e+00</td>\n",
              "      <td>0.000000e+00</td>\n",
              "      <td>NaN</td>\n",
              "      <td>1.000000</td>\n",
              "    </tr>\n",
              "    <tr>\n",
              "      <th>50%</th>\n",
              "      <td>1.883170e+07</td>\n",
              "      <td>2.0</td>\n",
              "      <td>NaN</td>\n",
              "      <td>2.460000e+02</td>\n",
              "      <td>1.300000e+01</td>\n",
              "      <td>NaN</td>\n",
              "      <td>2.320000e+02</td>\n",
              "      <td>1.100000e+01</td>\n",
              "      <td>0.000000e+00</td>\n",
              "      <td>NaN</td>\n",
              "      <td>1.849010e+05</td>\n",
              "      <td>0.000000e+00</td>\n",
              "      <td>NaN</td>\n",
              "      <td>1.000000</td>\n",
              "    </tr>\n",
              "    <tr>\n",
              "      <th>75%</th>\n",
              "      <td>2.029006e+07</td>\n",
              "      <td>2.0</td>\n",
              "      <td>NaN</td>\n",
              "      <td>3.090000e+02</td>\n",
              "      <td>1.800000e+01</td>\n",
              "      <td>NaN</td>\n",
              "      <td>3.070000e+02</td>\n",
              "      <td>1.700000e+01</td>\n",
              "      <td>0.000000e+00</td>\n",
              "      <td>NaN</td>\n",
              "      <td>2.065770e+05</td>\n",
              "      <td>3.191189e+06</td>\n",
              "      <td>NaN</td>\n",
              "      <td>1.000000</td>\n",
              "    </tr>\n",
              "    <tr>\n",
              "      <th>max</th>\n",
              "      <td>2.171861e+07</td>\n",
              "      <td>2.0</td>\n",
              "      <td>NaN</td>\n",
              "      <td>9.980000e+02</td>\n",
              "      <td>4.000000e+01</td>\n",
              "      <td>NaN</td>\n",
              "      <td>9.990000e+02</td>\n",
              "      <td>9.900000e+01</td>\n",
              "      <td>6.553500e+04</td>\n",
              "      <td>NaN</td>\n",
              "      <td>4.099376e+06</td>\n",
              "      <td>4.124667e+06</td>\n",
              "      <td>NaN</td>\n",
              "      <td>5.000000</td>\n",
              "    </tr>\n",
              "  </tbody>\n",
              "</table>\n",
              "</div>"
            ],
            "text/plain": [
              "             LEAS_NO  LEAS_STAT            LEAS_DATE  LEAS_STATION  \\\n",
              "count   3.142688e+06  3142688.0              3142688  3.142688e+06   \n",
              "unique           NaN        NaN              3056724           NaN   \n",
              "top              NaN        NaN  2019-05-08 18:19:21           NaN   \n",
              "freq             NaN        NaN                    4           NaN   \n",
              "mean    1.882270e+07        2.0                  NaN  2.487533e+02   \n",
              "std     1.674327e+06        0.0                  NaN  6.367190e+01   \n",
              "min     1.594554e+07        2.0                  NaN  1.010000e+02   \n",
              "25%     1.735176e+07        2.0                  NaN  2.130000e+02   \n",
              "50%     1.883170e+07        2.0                  NaN  2.460000e+02   \n",
              "75%     2.029006e+07        2.0                  NaN  3.090000e+02   \n",
              "max     2.171861e+07        2.0                  NaN  9.980000e+02   \n",
              "\n",
              "         LEAS_DEF_NO             RTN_DATE   RTN_STATION    RTN_DEF_NO  \\\n",
              "count   3.142688e+06              3142688  3.142688e+06  3.142688e+06   \n",
              "unique           NaN              3044089           NaN           NaN   \n",
              "top              NaN  2019-10-14 19:00:06           NaN           NaN   \n",
              "freq             NaN                   23           NaN           NaN   \n",
              "mean    1.335679e+01                  NaN  2.175205e+02  1.119356e+01   \n",
              "std     7.404129e+00                  NaN  1.017983e+02  8.703353e+00   \n",
              "min     1.000000e+00                  NaN  0.000000e+00  0.000000e+00   \n",
              "25%     8.000000e+00                  NaN  2.030000e+02  3.000000e+00   \n",
              "50%     1.300000e+01                  NaN  2.320000e+02  1.100000e+01   \n",
              "75%     1.800000e+01                  NaN  3.070000e+02  1.700000e+01   \n",
              "max     4.000000e+01                  NaN  9.990000e+02  9.900000e+01   \n",
              "\n",
              "            TRNV_QTY   MEMB_DIV       MEMB_NO  TEMP_MEMB_NO        BIKE_TAG  \\\n",
              "count   2.747029e+06  3142688.0  3.142688e+06  3.142685e+06         3142688   \n",
              "unique           NaN       31.0           NaN           NaN            3932   \n",
              "top              NaN        3.0           NaN           NaN  1A8440000002DC   \n",
              "freq             NaN   816117.0           NaN           NaN            2891   \n",
              "mean    4.895855e+03        NaN  1.315026e+05  9.174356e+05             NaN   \n",
              "std     1.264047e+04        NaN  9.720860e+04  1.587276e+06             NaN   \n",
              "min     0.000000e+00        NaN  0.000000e+00  0.000000e+00             NaN   \n",
              "25%     0.000000e+00        NaN  0.000000e+00  0.000000e+00             NaN   \n",
              "50%     0.000000e+00        NaN  1.849010e+05  0.000000e+00             NaN   \n",
              "75%     0.000000e+00        NaN  2.065770e+05  3.191189e+06             NaN   \n",
              "max     6.553500e+04        NaN  4.099376e+06  4.124667e+06             NaN   \n",
              "\n",
              "          RTN_PROCESS  \n",
              "count   410039.000000  \n",
              "unique            NaN  \n",
              "top               NaN  \n",
              "freq              NaN  \n",
              "mean         1.121984  \n",
              "std          0.590959  \n",
              "min          1.000000  \n",
              "25%          1.000000  \n",
              "50%          1.000000  \n",
              "75%          1.000000  \n",
              "max          5.000000  "
            ]
          },
          "metadata": {
            "tags": []
          },
          "execution_count": 6
        }
      ]
    },
    {
      "cell_type": "markdown",
      "metadata": {
        "id": "ule3NzbmI3Da",
        "colab_type": "text"
      },
      "source": [
        "## 01.운영이력 컬럼\n",
        "#### - LEAS_NO 대여 번호\n",
        "#### - LEAS_DATE 대여 시간 \n",
        "#### - LEAS_STATION 대여 스테이션 번호 \n",
        "#### - LEAS_DEF_NO 대여 거치대 번호\n",
        "#### - RTN_DATE 반납 시간 \n",
        "#### - RTN_STATION 반납 스테이션 번호 !\n",
        "#### - RTN_DEF_NO 반납 거치대 번호\n",
        "#### - RTN_PROCESS 관제반납구분값 (01:관제반납/02:관리자반납/03:관리자반출/04:타 사용자 반납/05:다른 사용자 반출)\n",
        "#### - TRNV_QTY 추정 이동 거리(m) ! -> 평균 이동거리\n",
        "#### - MEMB_DIV 회원 구분(비회원은 99이며 나머지는 정회원)\n",
        "#### - MEMB_NO 회원 번호\n",
        "#### - TEMP_MEMB_NO 비회원 번호\n",
        "#### - BIKE_TAG 자전거 번호"
      ]
    },
    {
      "cell_type": "markdown",
      "metadata": {
        "id": "PZwgXEI_I3Db",
        "colab_type": "text"
      },
      "source": [
        "## 1)시간대별 자전거 스테이션 이용현황"
      ]
    },
    {
      "cell_type": "markdown",
      "metadata": {
        "id": "Ia8YfvQbI3Dc",
        "colab_type": "text"
      },
      "source": [
        "### (1) 대여 자전거 스테이션 현황"
      ]
    },
    {
      "cell_type": "code",
      "metadata": {
        "id": "tLOj-QWPI3Dd",
        "colab_type": "code",
        "colab": {}
      },
      "source": [
        "# 대여/반납 스테이션으로 데이터 분리\n",
        "\n",
        "bicycle_LEAS=bicycle_now[['LEAS_DATE','LEAS_STATION']]\n",
        "bicycle_RTN=bicycle_now[['RTN_DATE', 'RTN_STATION']]"
      ],
      "execution_count": null,
      "outputs": []
    },
    {
      "cell_type": "code",
      "metadata": {
        "id": "zfhGmOI8I3Dh",
        "colab_type": "code",
        "colab": {},
        "outputId": "b10bf427-ebc5-49b3-ab53-9067926e7aae"
      },
      "source": [
        "#자전거 대여(날짜/스테이션) - bicycle_LEAS\n",
        "# 시간만 분리\n",
        "\n",
        "# 먼저 데이터['LEAS_DATE'] 타입이 object 인지 확인\n",
        "bicycle_LEAS.info()"
      ],
      "execution_count": null,
      "outputs": [
        {
          "output_type": "stream",
          "text": [
            "<class 'pandas.core.frame.DataFrame'>\n",
            "RangeIndex: 3142688 entries, 0 to 3142687\n",
            "Data columns (total 2 columns):\n",
            " #   Column        Dtype \n",
            "---  ------        ----- \n",
            " 0   LEAS_DATE     object\n",
            " 1   LEAS_STATION  int64 \n",
            "dtypes: int64(1), object(1)\n",
            "memory usage: 48.0+ MB\n"
          ],
          "name": "stdout"
        }
      ]
    },
    {
      "cell_type": "code",
      "metadata": {
        "id": "MFrPTH_7I3Dp",
        "colab_type": "code",
        "colab": {},
        "outputId": "e5f92999-7c66-48a5-e62c-a7e98a5fcf33"
      },
      "source": [
        "#'년원일'과 ' 시분초' 쪼개기\n",
        "bicycle_LEAS['tempDATE']=bicycle_LEAS.LEAS_DATE.apply(lambda x:x.split())\n",
        "\n",
        "\n",
        "# tempDATE에서 시간만 분리\n",
        "bicycle_LEAS['LEAS_hour']=bicycle_LEAS.tempDATE.apply(lambda x:x[1].split(\":\")[0])"
      ],
      "execution_count": null,
      "outputs": [
        {
          "output_type": "stream",
          "text": [
            "/opt/app-root/lib/python3.6/site-packages/ipykernel_launcher.py:2: SettingWithCopyWarning: \n",
            "A value is trying to be set on a copy of a slice from a DataFrame.\n",
            "Try using .loc[row_indexer,col_indexer] = value instead\n",
            "\n",
            "See the caveats in the documentation: https://pandas.pydata.org/pandas-docs/stable/user_guide/indexing.html#returning-a-view-versus-a-copy\n",
            "  \n",
            "/opt/app-root/lib/python3.6/site-packages/ipykernel_launcher.py:6: SettingWithCopyWarning: \n",
            "A value is trying to be set on a copy of a slice from a DataFrame.\n",
            "Try using .loc[row_indexer,col_indexer] = value instead\n",
            "\n",
            "See the caveats in the documentation: https://pandas.pydata.org/pandas-docs/stable/user_guide/indexing.html#returning-a-view-versus-a-copy\n",
            "  \n"
          ],
          "name": "stderr"
        }
      ]
    },
    {
      "cell_type": "markdown",
      "metadata": {
        "id": "a0ZOxLUxI3Dv",
        "colab_type": "text"
      },
      "source": [
        "### bicycle_LEAS  데이터 확인"
      ]
    },
    {
      "cell_type": "code",
      "metadata": {
        "id": "aGzYjtI2I3Dw",
        "colab_type": "code",
        "colab": {},
        "outputId": "905112a4-436a-4c59-e510-668fd03f7595"
      },
      "source": [
        "print(bicycle_LEAS.head(3))\n",
        "print(bicycle_LEAS.tail(3))"
      ],
      "execution_count": null,
      "outputs": [
        {
          "output_type": "stream",
          "text": [
            "             LEAS_DATE  LEAS_STATION                tempDATE LEAS_hour\n",
            "0  2017-01-01 00:00:41           213  [2017-01-01, 00:00:41]        00\n",
            "1  2017-01-01 00:01:03           231  [2017-01-01, 00:01:03]        00\n",
            "2  2017-01-01 00:01:50           119  [2017-01-01, 00:01:50]        00\n",
            "                   LEAS_DATE  LEAS_STATION                tempDATE LEAS_hour\n",
            "3142685  2019-12-31 23:55:27           333  [2019-12-31, 23:55:27]        23\n",
            "3142686  2019-12-31 23:59:14           264  [2019-12-31, 23:59:14]        23\n",
            "3142687  2019-12-31 23:59:30           214  [2019-12-31, 23:59:30]        23\n"
          ],
          "name": "stdout"
        }
      ]
    },
    {
      "cell_type": "code",
      "metadata": {
        "id": "knde5iyXI3D0",
        "colab_type": "code",
        "colab": {},
        "outputId": "67f754ff-4f93-4fbc-8b20-6127c67f2a00"
      },
      "source": [
        "# 시간(컬럼[LEAS_hour]) 0-23으로 분리\n",
        "# 시간대 별로 방문하는 스테이션 갯수 카운트\n",
        "# 대여시간이 많은 시간대에 자전거 스테이션이 어떻게 분포하는가를 확인\n",
        "# 시각화\n",
        "\n",
        "\n",
        "bicycle_LEAS.groupby('LEAS_hour')['LEAS_STATION']\n",
        "bicycle_LEAS.head()"
      ],
      "execution_count": null,
      "outputs": [
        {
          "output_type": "execute_result",
          "data": {
            "text/html": [
              "<div>\n",
              "<style scoped>\n",
              "    .dataframe tbody tr th:only-of-type {\n",
              "        vertical-align: middle;\n",
              "    }\n",
              "\n",
              "    .dataframe tbody tr th {\n",
              "        vertical-align: top;\n",
              "    }\n",
              "\n",
              "    .dataframe thead th {\n",
              "        text-align: right;\n",
              "    }\n",
              "</style>\n",
              "<table border=\"1\" class=\"dataframe\">\n",
              "  <thead>\n",
              "    <tr style=\"text-align: right;\">\n",
              "      <th></th>\n",
              "      <th>LEAS_DATE</th>\n",
              "      <th>LEAS_STATION</th>\n",
              "      <th>tempDATE</th>\n",
              "      <th>LEAS_hour</th>\n",
              "    </tr>\n",
              "  </thead>\n",
              "  <tbody>\n",
              "    <tr>\n",
              "      <th>0</th>\n",
              "      <td>2017-01-01 00:00:41</td>\n",
              "      <td>213</td>\n",
              "      <td>[2017-01-01, 00:00:41]</td>\n",
              "      <td>00</td>\n",
              "    </tr>\n",
              "    <tr>\n",
              "      <th>1</th>\n",
              "      <td>2017-01-01 00:01:03</td>\n",
              "      <td>231</td>\n",
              "      <td>[2017-01-01, 00:01:03]</td>\n",
              "      <td>00</td>\n",
              "    </tr>\n",
              "    <tr>\n",
              "      <th>2</th>\n",
              "      <td>2017-01-01 00:01:50</td>\n",
              "      <td>119</td>\n",
              "      <td>[2017-01-01, 00:01:50]</td>\n",
              "      <td>00</td>\n",
              "    </tr>\n",
              "    <tr>\n",
              "      <th>3</th>\n",
              "      <td>2017-01-01 00:02:09</td>\n",
              "      <td>121</td>\n",
              "      <td>[2017-01-01, 00:02:09]</td>\n",
              "      <td>00</td>\n",
              "    </tr>\n",
              "    <tr>\n",
              "      <th>4</th>\n",
              "      <td>2017-01-01 00:03:32</td>\n",
              "      <td>320</td>\n",
              "      <td>[2017-01-01, 00:03:32]</td>\n",
              "      <td>00</td>\n",
              "    </tr>\n",
              "  </tbody>\n",
              "</table>\n",
              "</div>"
            ],
            "text/plain": [
              "             LEAS_DATE  LEAS_STATION                tempDATE LEAS_hour\n",
              "0  2017-01-01 00:00:41           213  [2017-01-01, 00:00:41]        00\n",
              "1  2017-01-01 00:01:03           231  [2017-01-01, 00:01:03]        00\n",
              "2  2017-01-01 00:01:50           119  [2017-01-01, 00:01:50]        00\n",
              "3  2017-01-01 00:02:09           121  [2017-01-01, 00:02:09]        00\n",
              "4  2017-01-01 00:03:32           320  [2017-01-01, 00:03:32]        00"
            ]
          },
          "metadata": {
            "tags": []
          },
          "execution_count": 12
        }
      ]
    },
    {
      "cell_type": "code",
      "metadata": {
        "id": "Xyv9v3OCI3D5",
        "colab_type": "code",
        "colab": {},
        "outputId": "53dfb8bb-dafc-40ac-c30c-1261e254175f"
      },
      "source": [
        "#대여시간을 기준으로 groupby한 후 count\n",
        "bicycle_LEAS.groupby('LEAS_hour')['LEAS_STATION'].count().plot()"
      ],
      "execution_count": null,
      "outputs": [
        {
          "output_type": "stream",
          "text": [
            "/opt/app-root/lib/python3.6/site-packages/pandas/plotting/_matplotlib/core.py:1235: UserWarning: FixedFormatter should only be used together with FixedLocator\n",
            "  ax.set_xticklabels(xticklabels)\n"
          ],
          "name": "stderr"
        },
        {
          "output_type": "execute_result",
          "data": {
            "text/plain": [
              "<AxesSubplot:xlabel='LEAS_hour'>"
            ]
          },
          "metadata": {
            "tags": []
          },
          "execution_count": 13
        },
        {
          "output_type": "display_data",
          "data": {
            "image/png": "[encoded data removed]",
            "text/plain": [
              "<Figure size 432x288 with 1 Axes>"
            ]
          },
          "metadata": {
            "tags": [],
            "needs_background": "light"
          }
        }
      ]
    },
    {
      "cell_type": "markdown",
      "metadata": {
        "id": "Qlj7IWa1I3D_",
        "colab_type": "text"
      },
      "source": [
        "### (2) 반납 자전거 스테이션 현황"
      ]
    },
    {
      "cell_type": "code",
      "metadata": {
        "id": "GdaTIXJaI3EA",
        "colab_type": "code",
        "colab": {},
        "outputId": "35c52df8-74ec-458d-eca3-d2a458a1636e"
      },
      "source": [
        "# 반납도 대여와 동일한 방식으로 시간대별 스테이션 이용현황 확인\n",
        "bicycle_RTN['tempDATE']=bicycle_RTN.RTN_DATE.apply(lambda x:x.split())\n",
        "\n",
        "# 시간 대 확인\n",
        "bicycle_RTN['RTN_hour']=bicycle_RTN.tempDATE.apply(lambda x:x[1].split(\":\")[0])\n",
        "\n",
        "bicycle_RTN.head(3)"
      ],
      "execution_count": null,
      "outputs": [
        {
          "output_type": "stream",
          "text": [
            "/opt/app-root/lib/python3.6/site-packages/ipykernel_launcher.py:2: SettingWithCopyWarning: \n",
            "A value is trying to be set on a copy of a slice from a DataFrame.\n",
            "Try using .loc[row_indexer,col_indexer] = value instead\n",
            "\n",
            "See the caveats in the documentation: https://pandas.pydata.org/pandas-docs/stable/user_guide/indexing.html#returning-a-view-versus-a-copy\n",
            "  \n",
            "/opt/app-root/lib/python3.6/site-packages/ipykernel_launcher.py:5: SettingWithCopyWarning: \n",
            "A value is trying to be set on a copy of a slice from a DataFrame.\n",
            "Try using .loc[row_indexer,col_indexer] = value instead\n",
            "\n",
            "See the caveats in the documentation: https://pandas.pydata.org/pandas-docs/stable/user_guide/indexing.html#returning-a-view-versus-a-copy\n",
            "  \"\"\"\n"
          ],
          "name": "stderr"
        },
        {
          "output_type": "execute_result",
          "data": {
            "text/html": [
              "<div>\n",
              "<style scoped>\n",
              "    .dataframe tbody tr th:only-of-type {\n",
              "        vertical-align: middle;\n",
              "    }\n",
              "\n",
              "    .dataframe tbody tr th {\n",
              "        vertical-align: top;\n",
              "    }\n",
              "\n",
              "    .dataframe thead th {\n",
              "        text-align: right;\n",
              "    }\n",
              "</style>\n",
              "<table border=\"1\" class=\"dataframe\">\n",
              "  <thead>\n",
              "    <tr style=\"text-align: right;\">\n",
              "      <th></th>\n",
              "      <th>RTN_DATE</th>\n",
              "      <th>RTN_STATION</th>\n",
              "      <th>tempDATE</th>\n",
              "      <th>RTN_hour</th>\n",
              "    </tr>\n",
              "  </thead>\n",
              "  <tbody>\n",
              "    <tr>\n",
              "      <th>0</th>\n",
              "      <td>2017-01-01 00:13:52</td>\n",
              "      <td>260</td>\n",
              "      <td>[2017-01-01, 00:13:52]</td>\n",
              "      <td>00</td>\n",
              "    </tr>\n",
              "    <tr>\n",
              "      <th>1</th>\n",
              "      <td>2017-01-01 00:50:24</td>\n",
              "      <td>231</td>\n",
              "      <td>[2017-01-01, 00:50:24]</td>\n",
              "      <td>00</td>\n",
              "    </tr>\n",
              "    <tr>\n",
              "      <th>2</th>\n",
              "      <td>2017-01-01 01:01:50</td>\n",
              "      <td>0</td>\n",
              "      <td>[2017-01-01, 01:01:50]</td>\n",
              "      <td>01</td>\n",
              "    </tr>\n",
              "  </tbody>\n",
              "</table>\n",
              "</div>"
            ],
            "text/plain": [
              "              RTN_DATE  RTN_STATION                tempDATE RTN_hour\n",
              "0  2017-01-01 00:13:52          260  [2017-01-01, 00:13:52]       00\n",
              "1  2017-01-01 00:50:24          231  [2017-01-01, 00:50:24]       00\n",
              "2  2017-01-01 01:01:50            0  [2017-01-01, 01:01:50]       01"
            ]
          },
          "metadata": {
            "tags": []
          },
          "execution_count": 16
        }
      ]
    },
    {
      "cell_type": "code",
      "metadata": {
        "id": "EuntAqhEI3EG",
        "colab_type": "code",
        "colab": {},
        "outputId": "c2a79889-9a2e-4305-a0db-758b8a61f249"
      },
      "source": [
        "# 시간(컬럼[RTN_hour]) 0-23으로 분리\n",
        "# 시간대 별로 방문하는 스테이션 갯수 카운트\n",
        "# 반납시간이 많은 시간대에 자전거 스테이션이 어떻게 분포하는가 확인\n",
        "# 시각화\n",
        "\n",
        "bicycle_RTN.groupby('RTN_hour')['RTN_STATION']\n",
        "bicycle_RTN.groupby('RTN_hour')['RTN_STATION'].count().plot()"
      ],
      "execution_count": null,
      "outputs": [
        {
          "output_type": "stream",
          "text": [
            "/opt/app-root/lib/python3.6/site-packages/pandas/plotting/_matplotlib/core.py:1235: UserWarning: FixedFormatter should only be used together with FixedLocator\n",
            "  ax.set_xticklabels(xticklabels)\n"
          ],
          "name": "stderr"
        },
        {
          "output_type": "execute_result",
          "data": {
            "text/plain": [
              "<AxesSubplot:xlabel='RTN_hour'>"
            ]
          },
          "metadata": {
            "tags": []
          },
          "execution_count": 17
        },
        {
          "output_type": "display_data",
          "data": {
            "image/png": "[encoded data removed]",
            "text/plain": [
              "<Figure size 432x288 with 1 Axes>"
            ]
          },
          "metadata": {
            "tags": [],
            "needs_background": "light"
          }
        }
      ]
    },
    {
      "cell_type": "markdown",
      "metadata": {
        "id": "sozm57y2I3EM",
        "colab_type": "text"
      },
      "source": [
        "### - 시간대별로 대여/반납 빈도 추이가 유사"
      ]
    },
    {
      "cell_type": "markdown",
      "metadata": {
        "id": "ByM2coebI3EN",
        "colab_type": "text"
      },
      "source": [
        "## 2) 대여 시간대를 기준으로 출근/퇴근/점심/막차 이후 사용빈도 분석"
      ]
    },
    {
      "cell_type": "code",
      "metadata": {
        "id": "HAJYnTyuI3EP",
        "colab_type": "code",
        "colab": {}
      },
      "source": [
        "# biclcye_now에 새로운 칼럼['tempDATE'] 추가\n",
        "# 시간 값만 모아 ['LEAS_hour']에 추가\n",
        "bicycle_now['tempDATE']=bicycle_now.LEAS_DATE.apply(lambda x: x.split())\n",
        "bicycle_now['LEAS_hour']=bicycle_now.tempDATE.apply(lambda x:x[1].split(\":\")[0])"
      ],
      "execution_count": null,
      "outputs": []
    },
    {
      "cell_type": "code",
      "metadata": {
        "id": "NplwvmXqI3EU",
        "colab_type": "code",
        "colab": {}
      },
      "source": [
        "#출근 시간 별 시리즈 생성\n",
        "chulgeun07=bicycle_now['LEAS_hour']=='07'\n",
        "chulgeun08=bicycle_now['LEAS_hour']=='08'\n",
        "chulgeun09=bicycle_now['LEAS_hour']=='09'"
      ],
      "execution_count": null,
      "outputs": []
    },
    {
      "cell_type": "code",
      "metadata": {
        "id": "CqmfYg7dI3Ea",
        "colab_type": "code",
        "colab": {}
      },
      "source": [
        "# 해당 시리즈를 bicycle_now의 칼럼으로 추가\n",
        "chulgeun07=bicycle_now[chulgeun07]\n",
        "chulgeun08=bicycle_now[chulgeun08]\n",
        "chulgeun09=bicycle_now[chulgeun09]"
      ],
      "execution_count": null,
      "outputs": []
    },
    {
      "cell_type": "code",
      "metadata": {
        "id": "rwgv6yOjI3Ef",
        "colab_type": "code",
        "colab": {},
        "outputId": "a85d0295-2b4d-4e52-9c12-ef4ed6ff8895"
      },
      "source": [
        "# 해당 시리즈를 bicycle_now의 칼럼으로 추가\n",
        "bicycle_chulgeun=chulgeun07.append([chulgeun08, chulgeun09])\n",
        "bicycle_chulgeun.head(3)"
      ],
      "execution_count": null,
      "outputs": [
        {
          "output_type": "execute_result",
          "data": {
            "text/html": [
              "<div>\n",
              "<style scoped>\n",
              "    .dataframe tbody tr th:only-of-type {\n",
              "        vertical-align: middle;\n",
              "    }\n",
              "\n",
              "    .dataframe tbody tr th {\n",
              "        vertical-align: top;\n",
              "    }\n",
              "\n",
              "    .dataframe thead th {\n",
              "        text-align: right;\n",
              "    }\n",
              "</style>\n",
              "<table border=\"1\" class=\"dataframe\">\n",
              "  <thead>\n",
              "    <tr style=\"text-align: right;\">\n",
              "      <th></th>\n",
              "      <th>LEAS_NO</th>\n",
              "      <th>LEAS_STAT</th>\n",
              "      <th>LEAS_DATE</th>\n",
              "      <th>LEAS_STATION</th>\n",
              "      <th>LEAS_DEF_NO</th>\n",
              "      <th>RTN_DATE</th>\n",
              "      <th>RTN_STATION</th>\n",
              "      <th>RTN_DEF_NO</th>\n",
              "      <th>TRNV_QTY</th>\n",
              "      <th>MEMB_DIV</th>\n",
              "      <th>MEMB_NO</th>\n",
              "      <th>TEMP_MEMB_NO</th>\n",
              "      <th>BIKE_TAG</th>\n",
              "      <th>RTN_PROCESS</th>\n",
              "      <th>tempDATE</th>\n",
              "      <th>LEAS_hour</th>\n",
              "    </tr>\n",
              "  </thead>\n",
              "  <tbody>\n",
              "    <tr>\n",
              "      <th>325</th>\n",
              "      <td>15946095</td>\n",
              "      <td>2</td>\n",
              "      <td>2017-01-01 07:02:56</td>\n",
              "      <td>217</td>\n",
              "      <td>16</td>\n",
              "      <td>2017-01-01 07:10:24</td>\n",
              "      <td>207</td>\n",
              "      <td>20</td>\n",
              "      <td>0.0</td>\n",
              "      <td>12</td>\n",
              "      <td>162376</td>\n",
              "      <td>0.0</td>\n",
              "      <td>1A84400000F363</td>\n",
              "      <td>NaN</td>\n",
              "      <td>[2017-01-01, 07:02:56]</td>\n",
              "      <td>07</td>\n",
              "    </tr>\n",
              "    <tr>\n",
              "      <th>326</th>\n",
              "      <td>15946097</td>\n",
              "      <td>2</td>\n",
              "      <td>2017-01-01 07:06:53</td>\n",
              "      <td>203</td>\n",
              "      <td>20</td>\n",
              "      <td>2017-01-01 07:52:56</td>\n",
              "      <td>203</td>\n",
              "      <td>20</td>\n",
              "      <td>0.0</td>\n",
              "      <td>1</td>\n",
              "      <td>187752</td>\n",
              "      <td>0.0</td>\n",
              "      <td>1A84400000F54F</td>\n",
              "      <td>NaN</td>\n",
              "      <td>[2017-01-01, 07:06:53]</td>\n",
              "      <td>07</td>\n",
              "    </tr>\n",
              "    <tr>\n",
              "      <th>327</th>\n",
              "      <td>15946098</td>\n",
              "      <td>2</td>\n",
              "      <td>2017-01-01 07:08:26</td>\n",
              "      <td>203</td>\n",
              "      <td>14</td>\n",
              "      <td>2017-01-01 07:52:58</td>\n",
              "      <td>203</td>\n",
              "      <td>14</td>\n",
              "      <td>0.0</td>\n",
              "      <td>99</td>\n",
              "      <td>0</td>\n",
              "      <td>3185290.0</td>\n",
              "      <td>1A84400000F545</td>\n",
              "      <td>NaN</td>\n",
              "      <td>[2017-01-01, 07:08:26]</td>\n",
              "      <td>07</td>\n",
              "    </tr>\n",
              "  </tbody>\n",
              "</table>\n",
              "</div>"
            ],
            "text/plain": [
              "      LEAS_NO  LEAS_STAT            LEAS_DATE  LEAS_STATION  LEAS_DEF_NO  \\\n",
              "325  15946095          2  2017-01-01 07:02:56           217           16   \n",
              "326  15946097          2  2017-01-01 07:06:53           203           20   \n",
              "327  15946098          2  2017-01-01 07:08:26           203           14   \n",
              "\n",
              "                RTN_DATE  RTN_STATION  RTN_DEF_NO  TRNV_QTY MEMB_DIV  MEMB_NO  \\\n",
              "325  2017-01-01 07:10:24          207          20       0.0       12   162376   \n",
              "326  2017-01-01 07:52:56          203          20       0.0        1   187752   \n",
              "327  2017-01-01 07:52:58          203          14       0.0       99        0   \n",
              "\n",
              "     TEMP_MEMB_NO        BIKE_TAG  RTN_PROCESS                tempDATE  \\\n",
              "325           0.0  1A84400000F363          NaN  [2017-01-01, 07:02:56]   \n",
              "326           0.0  1A84400000F54F          NaN  [2017-01-01, 07:06:53]   \n",
              "327     3185290.0  1A84400000F545          NaN  [2017-01-01, 07:08:26]   \n",
              "\n",
              "    LEAS_hour  \n",
              "325        07  \n",
              "326        07  \n",
              "327        07  "
            ]
          },
          "metadata": {
            "tags": []
          },
          "execution_count": 39
        }
      ]
    },
    {
      "cell_type": "markdown",
      "metadata": {
        "id": "APUguhcfI3Ek",
        "colab_type": "text"
      },
      "source": [
        "## 출근 시간 자전거 스테이션 현황"
      ]
    },
    {
      "cell_type": "code",
      "metadata": {
        "id": "tBXoxe33I3El",
        "colab_type": "code",
        "colab": {},
        "outputId": "4bf48626-d1c3-4389-aed3-684d61de6eff"
      },
      "source": [
        "# 대여-반납 현황이 시간대별로 유사하기 때문에 대여 관련 자료만 추출한다.\n",
        "\n",
        "bicycle_chulgeun_LEAS=bicycle_chulgeun[['LEAS_NO', 'LEAS_DATE', 'LEAS_STATION', 'LEAS_DEF_NO']]\n",
        "bicycle_chulgeun_LEAS"
      ],
      "execution_count": null,
      "outputs": [
        {
          "output_type": "execute_result",
          "data": {
            "text/html": [
              "<div>\n",
              "<style scoped>\n",
              "    .dataframe tbody tr th:only-of-type {\n",
              "        vertical-align: middle;\n",
              "    }\n",
              "\n",
              "    .dataframe tbody tr th {\n",
              "        vertical-align: top;\n",
              "    }\n",
              "\n",
              "    .dataframe thead th {\n",
              "        text-align: right;\n",
              "    }\n",
              "</style>\n",
              "<table border=\"1\" class=\"dataframe\">\n",
              "  <thead>\n",
              "    <tr style=\"text-align: right;\">\n",
              "      <th></th>\n",
              "      <th>LEAS_NO</th>\n",
              "      <th>LEAS_DATE</th>\n",
              "      <th>LEAS_STATION</th>\n",
              "      <th>LEAS_DEF_NO</th>\n",
              "    </tr>\n",
              "  </thead>\n",
              "  <tbody>\n",
              "    <tr>\n",
              "      <th>325</th>\n",
              "      <td>15946095</td>\n",
              "      <td>2017-01-01 07:02:56</td>\n",
              "      <td>217</td>\n",
              "      <td>16</td>\n",
              "    </tr>\n",
              "    <tr>\n",
              "      <th>326</th>\n",
              "      <td>15946097</td>\n",
              "      <td>2017-01-01 07:06:53</td>\n",
              "      <td>203</td>\n",
              "      <td>20</td>\n",
              "    </tr>\n",
              "    <tr>\n",
              "      <th>327</th>\n",
              "      <td>15946098</td>\n",
              "      <td>2017-01-01 07:08:26</td>\n",
              "      <td>203</td>\n",
              "      <td>14</td>\n",
              "    </tr>\n",
              "    <tr>\n",
              "      <th>328</th>\n",
              "      <td>15946099</td>\n",
              "      <td>2017-01-01 07:13:04</td>\n",
              "      <td>328</td>\n",
              "      <td>15</td>\n",
              "    </tr>\n",
              "    <tr>\n",
              "      <th>329</th>\n",
              "      <td>15946100</td>\n",
              "      <td>2017-01-01 07:14:31</td>\n",
              "      <td>311</td>\n",
              "      <td>15</td>\n",
              "    </tr>\n",
              "    <tr>\n",
              "      <th>...</th>\n",
              "      <td>...</td>\n",
              "      <td>...</td>\n",
              "      <td>...</td>\n",
              "      <td>...</td>\n",
              "    </tr>\n",
              "    <tr>\n",
              "      <th>3141926</th>\n",
              "      <td>21716849</td>\n",
              "      <td>2019-12-31 09:53:13</td>\n",
              "      <td>319</td>\n",
              "      <td>15</td>\n",
              "    </tr>\n",
              "    <tr>\n",
              "      <th>3141927</th>\n",
              "      <td>21716851</td>\n",
              "      <td>2019-12-31 09:54:08</td>\n",
              "      <td>252</td>\n",
              "      <td>20</td>\n",
              "    </tr>\n",
              "    <tr>\n",
              "      <th>3141928</th>\n",
              "      <td>21716859</td>\n",
              "      <td>2019-12-31 09:55:53</td>\n",
              "      <td>253</td>\n",
              "      <td>21</td>\n",
              "    </tr>\n",
              "    <tr>\n",
              "      <th>3141929</th>\n",
              "      <td>21716864</td>\n",
              "      <td>2019-12-31 09:57:42</td>\n",
              "      <td>320</td>\n",
              "      <td>17</td>\n",
              "    </tr>\n",
              "    <tr>\n",
              "      <th>3141930</th>\n",
              "      <td>21716866</td>\n",
              "      <td>2019-12-31 09:59:45</td>\n",
              "      <td>226</td>\n",
              "      <td>10</td>\n",
              "    </tr>\n",
              "  </tbody>\n",
              "</table>\n",
              "<p>409231 rows × 4 columns</p>\n",
              "</div>"
            ],
            "text/plain": [
              "          LEAS_NO            LEAS_DATE  LEAS_STATION  LEAS_DEF_NO\n",
              "325      15946095  2017-01-01 07:02:56           217           16\n",
              "326      15946097  2017-01-01 07:06:53           203           20\n",
              "327      15946098  2017-01-01 07:08:26           203           14\n",
              "328      15946099  2017-01-01 07:13:04           328           15\n",
              "329      15946100  2017-01-01 07:14:31           311           15\n",
              "...           ...                  ...           ...          ...\n",
              "3141926  21716849  2019-12-31 09:53:13           319           15\n",
              "3141927  21716851  2019-12-31 09:54:08           252           20\n",
              "3141928  21716859  2019-12-31 09:55:53           253           21\n",
              "3141929  21716864  2019-12-31 09:57:42           320           17\n",
              "3141930  21716866  2019-12-31 09:59:45           226           10\n",
              "\n",
              "[409231 rows x 4 columns]"
            ]
          },
          "metadata": {
            "tags": []
          },
          "execution_count": 50
        }
      ]
    },
    {
      "cell_type": "code",
      "metadata": {
        "id": "q4YL4LuLI3Es",
        "colab_type": "code",
        "colab": {},
        "outputId": "93d4922f-5e07-4336-c30b-43db90c1c23f"
      },
      "source": [
        "# 결측값 확인\n",
        "bicycle_chulgeun_LEAS.isnull().sum()"
      ],
      "execution_count": null,
      "outputs": [
        {
          "output_type": "execute_result",
          "data": {
            "text/plain": [
              "LEAS_NO         0\n",
              "LEAS_DATE       0\n",
              "LEAS_STATION    0\n",
              "LEAS_DEF_NO     0\n",
              "dtype: int64"
            ]
          },
          "metadata": {
            "tags": []
          },
          "execution_count": 51
        }
      ]
    },
    {
      "cell_type": "code",
      "metadata": {
        "id": "DuB925XcI3Ex",
        "colab_type": "code",
        "colab": {}
      },
      "source": [
        "#LEAS_STATION의 대여 횟수\n",
        "LEAS_counts1=bicycle_chulgeun_LEAS['LEAS_STATION'].value_counts()"
      ],
      "execution_count": null,
      "outputs": []
    },
    {
      "cell_type": "code",
      "metadata": {
        "id": "o7Wl1_JDI3E1",
        "colab_type": "code",
        "colab": {},
        "outputId": "75d549a5-2752-48b6-c190-0ac87f6cbff5"
      },
      "source": [
        "# 막차 시간대 대여횟수를 하나의 데이터 프레임으로 변형\n",
        "\n",
        "hour_07to09 = LEAS_counts1.rename_axis('LEAS_STATION').reset_index(name='counts')\n",
        "hour_07to09"
      ],
      "execution_count": null,
      "outputs": [
        {
          "output_type": "execute_result",
          "data": {
            "text/html": [
              "<div>\n",
              "<style scoped>\n",
              "    .dataframe tbody tr th:only-of-type {\n",
              "        vertical-align: middle;\n",
              "    }\n",
              "\n",
              "    .dataframe tbody tr th {\n",
              "        vertical-align: top;\n",
              "    }\n",
              "\n",
              "    .dataframe thead th {\n",
              "        text-align: right;\n",
              "    }\n",
              "</style>\n",
              "<table border=\"1\" class=\"dataframe\">\n",
              "  <thead>\n",
              "    <tr style=\"text-align: right;\">\n",
              "      <th></th>\n",
              "      <th>LEAS_STATION</th>\n",
              "      <th>counts</th>\n",
              "    </tr>\n",
              "  </thead>\n",
              "  <tbody>\n",
              "    <tr>\n",
              "      <th>0</th>\n",
              "      <td>321</td>\n",
              "      <td>9261</td>\n",
              "    </tr>\n",
              "    <tr>\n",
              "      <th>1</th>\n",
              "      <td>311</td>\n",
              "      <td>8060</td>\n",
              "    </tr>\n",
              "    <tr>\n",
              "      <th>2</th>\n",
              "      <td>245</td>\n",
              "      <td>7912</td>\n",
              "    </tr>\n",
              "    <tr>\n",
              "      <th>3</th>\n",
              "      <td>343</td>\n",
              "      <td>7724</td>\n",
              "    </tr>\n",
              "    <tr>\n",
              "      <th>4</th>\n",
              "      <td>229</td>\n",
              "      <td>7569</td>\n",
              "    </tr>\n",
              "    <tr>\n",
              "      <th>...</th>\n",
              "      <td>...</td>\n",
              "      <td>...</td>\n",
              "    </tr>\n",
              "    <tr>\n",
              "      <th>150</th>\n",
              "      <td>171</td>\n",
              "      <td>185</td>\n",
              "    </tr>\n",
              "    <tr>\n",
              "      <th>151</th>\n",
              "      <td>265</td>\n",
              "      <td>166</td>\n",
              "    </tr>\n",
              "    <tr>\n",
              "      <th>152</th>\n",
              "      <td>264</td>\n",
              "      <td>134</td>\n",
              "    </tr>\n",
              "    <tr>\n",
              "      <th>153</th>\n",
              "      <td>351</td>\n",
              "      <td>73</td>\n",
              "    </tr>\n",
              "    <tr>\n",
              "      <th>154</th>\n",
              "      <td>263</td>\n",
              "      <td>23</td>\n",
              "    </tr>\n",
              "  </tbody>\n",
              "</table>\n",
              "<p>155 rows × 2 columns</p>\n",
              "</div>"
            ],
            "text/plain": [
              "     LEAS_STATION  counts\n",
              "0             321    9261\n",
              "1             311    8060\n",
              "2             245    7912\n",
              "3             343    7724\n",
              "4             229    7569\n",
              "..            ...     ...\n",
              "150           171     185\n",
              "151           265     166\n",
              "152           264     134\n",
              "153           351      73\n",
              "154           263      23\n",
              "\n",
              "[155 rows x 2 columns]"
            ]
          },
          "metadata": {
            "tags": []
          },
          "execution_count": 54
        }
      ]
    },
    {
      "cell_type": "code",
      "metadata": {
        "id": "xVSRULd6I3E5",
        "colab_type": "code",
        "colab": {},
        "outputId": "c2f3bc04-b23d-4b71-e899-41a48d37dd80"
      },
      "source": [
        "# 결측값 확인\n",
        "bicycle_chulgeun_LEAS.isnull().sum()"
      ],
      "execution_count": null,
      "outputs": [
        {
          "output_type": "execute_result",
          "data": {
            "text/plain": [
              "LEAS_NO         0\n",
              "LEAS_DATE       0\n",
              "LEAS_STATION    0\n",
              "LEAS_DEF_NO     0\n",
              "dtype: int64"
            ]
          },
          "metadata": {
            "tags": []
          },
          "execution_count": 42
        }
      ]
    },
    {
      "cell_type": "code",
      "metadata": {
        "id": "LiEYP2CdI3E_",
        "colab_type": "code",
        "colab": {}
      },
      "source": [
        "#LEAS_STATION의 대여 횟수\n",
        "LEAS_counts=bicycle_chulgeun_LEAS['LEAS_STATION'].value_counts()"
      ],
      "execution_count": null,
      "outputs": []
    },
    {
      "cell_type": "code",
      "metadata": {
        "id": "V55mufq-I3FF",
        "colab_type": "code",
        "colab": {},
        "outputId": "8d90f20e-acb5-41b0-8eb8-8ce9da59bc79"
      },
      "source": [
        "hour_07to09 = LEAS_counts.rename_axis('LEAS_STATION').reset_index(name='counts')\n",
        "hour_07to09"
      ],
      "execution_count": null,
      "outputs": [
        {
          "output_type": "execute_result",
          "data": {
            "text/html": [
              "<div>\n",
              "<style scoped>\n",
              "    .dataframe tbody tr th:only-of-type {\n",
              "        vertical-align: middle;\n",
              "    }\n",
              "\n",
              "    .dataframe tbody tr th {\n",
              "        vertical-align: top;\n",
              "    }\n",
              "\n",
              "    .dataframe thead th {\n",
              "        text-align: right;\n",
              "    }\n",
              "</style>\n",
              "<table border=\"1\" class=\"dataframe\">\n",
              "  <thead>\n",
              "    <tr style=\"text-align: right;\">\n",
              "      <th></th>\n",
              "      <th>LEAS_STATION</th>\n",
              "      <th>counts</th>\n",
              "    </tr>\n",
              "  </thead>\n",
              "  <tbody>\n",
              "    <tr>\n",
              "      <th>0</th>\n",
              "      <td>210</td>\n",
              "      <td>15446</td>\n",
              "    </tr>\n",
              "    <tr>\n",
              "      <th>1</th>\n",
              "      <td>260</td>\n",
              "      <td>6489</td>\n",
              "    </tr>\n",
              "    <tr>\n",
              "      <th>2</th>\n",
              "      <td>259</td>\n",
              "      <td>5992</td>\n",
              "    </tr>\n",
              "    <tr>\n",
              "      <th>3</th>\n",
              "      <td>306</td>\n",
              "      <td>5298</td>\n",
              "    </tr>\n",
              "    <tr>\n",
              "      <th>4</th>\n",
              "      <td>342</td>\n",
              "      <td>4951</td>\n",
              "    </tr>\n",
              "    <tr>\n",
              "      <th>...</th>\n",
              "      <td>...</td>\n",
              "      <td>...</td>\n",
              "    </tr>\n",
              "    <tr>\n",
              "      <th>151</th>\n",
              "      <td>351</td>\n",
              "      <td>37</td>\n",
              "    </tr>\n",
              "    <tr>\n",
              "      <th>152</th>\n",
              "      <td>256</td>\n",
              "      <td>37</td>\n",
              "    </tr>\n",
              "    <tr>\n",
              "      <th>153</th>\n",
              "      <td>992</td>\n",
              "      <td>33</td>\n",
              "    </tr>\n",
              "    <tr>\n",
              "      <th>154</th>\n",
              "      <td>263</td>\n",
              "      <td>16</td>\n",
              "    </tr>\n",
              "    <tr>\n",
              "      <th>155</th>\n",
              "      <td>998</td>\n",
              "      <td>2</td>\n",
              "    </tr>\n",
              "  </tbody>\n",
              "</table>\n",
              "<p>156 rows × 2 columns</p>\n",
              "</div>"
            ],
            "text/plain": [
              "     LEAS_STATION  counts\n",
              "0             210   15446\n",
              "1             260    6489\n",
              "2             259    5992\n",
              "3             306    5298\n",
              "4             342    4951\n",
              "..            ...     ...\n",
              "151           351      37\n",
              "152           256      37\n",
              "153           992      33\n",
              "154           263      16\n",
              "155           998       2\n",
              "\n",
              "[156 rows x 2 columns]"
            ]
          },
          "metadata": {
            "tags": []
          },
          "execution_count": 44
        }
      ]
    },
    {
      "cell_type": "code",
      "metadata": {
        "id": "Uzij2Ig4I3FK",
        "colab_type": "code",
        "colab": {}
      },
      "source": [
        "# 해당 스테이션별 위도 경도 입히기\n",
        "\n",
        "bicycle_station=pd.read_csv(input_path.joinpath('02.자전거스테이션.csv'))"
      ],
      "execution_count": null,
      "outputs": []
    },
    {
      "cell_type": "code",
      "metadata": {
        "id": "gR-RuV0hI3FR",
        "colab_type": "code",
        "colab": {},
        "outputId": "e663a011-2f9b-4dc6-bec6-80723a51128c"
      },
      "source": [
        "hour_07to09['위도']=0\n",
        "hour_07to09['경도']=0\n",
        "\n",
        "for i in range(len(hour_07to09['LEAS_STATION'])):\n",
        "    for j in range(len(bicycle_station['Station_ID'])):\n",
        "        if hour_07to09['LEAS_STATION'].iloc[i]==bicycle_station['Station_ID'].iloc[j]:\n",
        "            hour_07to09['위도'].iloc[i]=bicycle_station['위도'].iloc[j]\n",
        "            hour_07to09['경도'].iloc[i]=bicycle_station['경도'].iloc[j]"
      ],
      "execution_count": null,
      "outputs": [
        {
          "output_type": "stream",
          "text": [
            "/opt/app-root/lib/python3.6/site-packages/pandas/core/indexing.py:670: SettingWithCopyWarning: \n",
            "A value is trying to be set on a copy of a slice from a DataFrame\n",
            "\n",
            "See the caveats in the documentation: https://pandas.pydata.org/pandas-docs/stable/user_guide/indexing.html#returning-a-view-versus-a-copy\n",
            "  iloc._setitem_with_indexer(indexer, value)\n"
          ],
          "name": "stderr"
        }
      ]
    },
    {
      "cell_type": "code",
      "metadata": {
        "id": "jc0vLdI5I3FW",
        "colab_type": "code",
        "colab": {},
        "outputId": "4b316d47-3c1c-46ed-fc90-efcd68ddec09"
      },
      "source": [
        "hour_07to09.head()"
      ],
      "execution_count": null,
      "outputs": [
        {
          "output_type": "execute_result",
          "data": {
            "text/html": [
              "<div>\n",
              "<style scoped>\n",
              "    .dataframe tbody tr th:only-of-type {\n",
              "        vertical-align: middle;\n",
              "    }\n",
              "\n",
              "    .dataframe tbody tr th {\n",
              "        vertical-align: top;\n",
              "    }\n",
              "\n",
              "    .dataframe thead th {\n",
              "        text-align: right;\n",
              "    }\n",
              "</style>\n",
              "<table border=\"1\" class=\"dataframe\">\n",
              "  <thead>\n",
              "    <tr style=\"text-align: right;\">\n",
              "      <th></th>\n",
              "      <th>LEAS_STATION</th>\n",
              "      <th>counts</th>\n",
              "      <th>위도</th>\n",
              "      <th>경도</th>\n",
              "    </tr>\n",
              "  </thead>\n",
              "  <tbody>\n",
              "    <tr>\n",
              "      <th>0</th>\n",
              "      <td>321</td>\n",
              "      <td>9261</td>\n",
              "      <td>37.681812</td>\n",
              "      <td>126.769340</td>\n",
              "    </tr>\n",
              "    <tr>\n",
              "      <th>1</th>\n",
              "      <td>311</td>\n",
              "      <td>8060</td>\n",
              "      <td>37.670203</td>\n",
              "      <td>126.768394</td>\n",
              "    </tr>\n",
              "    <tr>\n",
              "      <th>2</th>\n",
              "      <td>245</td>\n",
              "      <td>7912</td>\n",
              "      <td>37.675567</td>\n",
              "      <td>126.784853</td>\n",
              "    </tr>\n",
              "    <tr>\n",
              "      <th>3</th>\n",
              "      <td>343</td>\n",
              "      <td>7724</td>\n",
              "      <td>37.675036</td>\n",
              "      <td>126.768351</td>\n",
              "    </tr>\n",
              "    <tr>\n",
              "      <th>4</th>\n",
              "      <td>229</td>\n",
              "      <td>7569</td>\n",
              "      <td>37.672328</td>\n",
              "      <td>126.785754</td>\n",
              "    </tr>\n",
              "  </tbody>\n",
              "</table>\n",
              "</div>"
            ],
            "text/plain": [
              "   LEAS_STATION  counts         위도          경도\n",
              "0           321    9261  37.681812  126.769340\n",
              "1           311    8060  37.670203  126.768394\n",
              "2           245    7912  37.675567  126.784853\n",
              "3           343    7724  37.675036  126.768351\n",
              "4           229    7569  37.672328  126.785754"
            ]
          },
          "metadata": {
            "tags": []
          },
          "execution_count": 57
        }
      ]
    },
    {
      "cell_type": "code",
      "metadata": {
        "id": "Q5AwZcQkI3Fd",
        "colab_type": "code",
        "colab": {}
      },
      "source": [
        "#점심 시간 별 시리즈 생성\n",
        "\n",
        "lunch12=bicycle_now['LEAS_hour']=='12'\n",
        "lunch13=bicycle_now['LEAS_hour']=='13'\n",
        "lunch14=bicycle_now['LEAS_hour']=='14'"
      ],
      "execution_count": null,
      "outputs": []
    },
    {
      "cell_type": "code",
      "metadata": {
        "id": "JEWVSK2XI3Fh",
        "colab_type": "code",
        "colab": {}
      },
      "source": [
        "#해당 시리즈를 bicycle_now의 칼럼으로 추가\n",
        "lunch12=bicycle_now[lunch12]\n",
        "lunch13=bicycle_now[lunch13]\n",
        "lunch14=bicycle_now[lunch14]"
      ],
      "execution_count": null,
      "outputs": []
    },
    {
      "cell_type": "code",
      "metadata": {
        "id": "AKjL0F9VI3Fm",
        "colab_type": "code",
        "colab": {},
        "outputId": "7ac39a3d-cc51-47c0-ef77-48ff247d1881"
      },
      "source": [
        "#해당 시리즈를 bicycle_now의 칼럼으로 추가\n",
        "bicycle_lunch=lunch12.append([lunch13, lunch14])\n",
        "bicycle_lunch.head(3)"
      ],
      "execution_count": null,
      "outputs": [
        {
          "output_type": "execute_result",
          "data": {
            "text/html": [
              "<div>\n",
              "<style scoped>\n",
              "    .dataframe tbody tr th:only-of-type {\n",
              "        vertical-align: middle;\n",
              "    }\n",
              "\n",
              "    .dataframe tbody tr th {\n",
              "        vertical-align: top;\n",
              "    }\n",
              "\n",
              "    .dataframe thead th {\n",
              "        text-align: right;\n",
              "    }\n",
              "</style>\n",
              "<table border=\"1\" class=\"dataframe\">\n",
              "  <thead>\n",
              "    <tr style=\"text-align: right;\">\n",
              "      <th></th>\n",
              "      <th>LEAS_NO</th>\n",
              "      <th>LEAS_STAT</th>\n",
              "      <th>LEAS_DATE</th>\n",
              "      <th>LEAS_STATION</th>\n",
              "      <th>LEAS_DEF_NO</th>\n",
              "      <th>RTN_DATE</th>\n",
              "      <th>RTN_STATION</th>\n",
              "      <th>RTN_DEF_NO</th>\n",
              "      <th>TRNV_QTY</th>\n",
              "      <th>MEMB_DIV</th>\n",
              "      <th>MEMB_NO</th>\n",
              "      <th>TEMP_MEMB_NO</th>\n",
              "      <th>BIKE_TAG</th>\n",
              "      <th>RTN_PROCESS</th>\n",
              "      <th>tempDATE</th>\n",
              "      <th>LEAS_hour</th>\n",
              "    </tr>\n",
              "  </thead>\n",
              "  <tbody>\n",
              "    <tr>\n",
              "      <th>524</th>\n",
              "      <td>15946641</td>\n",
              "      <td>2</td>\n",
              "      <td>2017-01-01 12:00:18</td>\n",
              "      <td>309</td>\n",
              "      <td>30</td>\n",
              "      <td>2017-01-01 12:08:14</td>\n",
              "      <td>0</td>\n",
              "      <td>0</td>\n",
              "      <td>NaN</td>\n",
              "      <td>12</td>\n",
              "      <td>88663</td>\n",
              "      <td>0.0</td>\n",
              "      <td>1A84400000F2E7</td>\n",
              "      <td>1.0</td>\n",
              "      <td>[2017-01-01, 12:00:18]</td>\n",
              "      <td>12</td>\n",
              "    </tr>\n",
              "    <tr>\n",
              "      <th>525</th>\n",
              "      <td>15946642</td>\n",
              "      <td>2</td>\n",
              "      <td>2017-01-01 12:00:50</td>\n",
              "      <td>253</td>\n",
              "      <td>5</td>\n",
              "      <td>2017-01-01 12:44:42</td>\n",
              "      <td>254</td>\n",
              "      <td>20</td>\n",
              "      <td>0.0</td>\n",
              "      <td>99</td>\n",
              "      <td>0</td>\n",
              "      <td>3185350.0</td>\n",
              "      <td>1A84400000099B</td>\n",
              "      <td>NaN</td>\n",
              "      <td>[2017-01-01, 12:00:50]</td>\n",
              "      <td>12</td>\n",
              "    </tr>\n",
              "    <tr>\n",
              "      <th>526</th>\n",
              "      <td>15946643</td>\n",
              "      <td>2</td>\n",
              "      <td>2017-01-01 12:03:35</td>\n",
              "      <td>254</td>\n",
              "      <td>14</td>\n",
              "      <td>2017-01-01 12:53:01</td>\n",
              "      <td>254</td>\n",
              "      <td>19</td>\n",
              "      <td>0.0</td>\n",
              "      <td>99</td>\n",
              "      <td>0</td>\n",
              "      <td>3185352.0</td>\n",
              "      <td>1A84400000F368</td>\n",
              "      <td>NaN</td>\n",
              "      <td>[2017-01-01, 12:03:35]</td>\n",
              "      <td>12</td>\n",
              "    </tr>\n",
              "  </tbody>\n",
              "</table>\n",
              "</div>"
            ],
            "text/plain": [
              "      LEAS_NO  LEAS_STAT            LEAS_DATE  LEAS_STATION  LEAS_DEF_NO  \\\n",
              "524  15946641          2  2017-01-01 12:00:18           309           30   \n",
              "525  15946642          2  2017-01-01 12:00:50           253            5   \n",
              "526  15946643          2  2017-01-01 12:03:35           254           14   \n",
              "\n",
              "                RTN_DATE  RTN_STATION  RTN_DEF_NO  TRNV_QTY MEMB_DIV  MEMB_NO  \\\n",
              "524  2017-01-01 12:08:14            0           0       NaN       12    88663   \n",
              "525  2017-01-01 12:44:42          254          20       0.0       99        0   \n",
              "526  2017-01-01 12:53:01          254          19       0.0       99        0   \n",
              "\n",
              "     TEMP_MEMB_NO        BIKE_TAG  RTN_PROCESS                tempDATE  \\\n",
              "524           0.0  1A84400000F2E7          1.0  [2017-01-01, 12:00:18]   \n",
              "525     3185350.0  1A84400000099B          NaN  [2017-01-01, 12:00:50]   \n",
              "526     3185352.0  1A84400000F368          NaN  [2017-01-01, 12:03:35]   \n",
              "\n",
              "    LEAS_hour  \n",
              "524        12  \n",
              "525        12  \n",
              "526        12  "
            ]
          },
          "metadata": {
            "tags": []
          },
          "execution_count": 48
        }
      ]
    },
    {
      "cell_type": "code",
      "metadata": {
        "id": "3UXIXAEeI3Fs",
        "colab_type": "code",
        "colab": {},
        "outputId": "056872d2-c0b8-41cc-9d87-b6aef10842e6"
      },
      "source": [
        "# 점심시간대 자전거 스테이션 현황\n",
        "bicycle_lunch_LEAS=bicycle_lunch[['LEAS_NO', 'LEAS_DATE', 'LEAS_STATION', 'LEAS_DEF_NO']]\n",
        "bicycle_lunch_LEAS"
      ],
      "execution_count": null,
      "outputs": [
        {
          "output_type": "execute_result",
          "data": {
            "text/html": [
              "<div>\n",
              "<style scoped>\n",
              "    .dataframe tbody tr th:only-of-type {\n",
              "        vertical-align: middle;\n",
              "    }\n",
              "\n",
              "    .dataframe tbody tr th {\n",
              "        vertical-align: top;\n",
              "    }\n",
              "\n",
              "    .dataframe thead th {\n",
              "        text-align: right;\n",
              "    }\n",
              "</style>\n",
              "<table border=\"1\" class=\"dataframe\">\n",
              "  <thead>\n",
              "    <tr style=\"text-align: right;\">\n",
              "      <th></th>\n",
              "      <th>LEAS_NO</th>\n",
              "      <th>LEAS_DATE</th>\n",
              "      <th>LEAS_STATION</th>\n",
              "      <th>LEAS_DEF_NO</th>\n",
              "    </tr>\n",
              "  </thead>\n",
              "  <tbody>\n",
              "    <tr>\n",
              "      <th>524</th>\n",
              "      <td>15946641</td>\n",
              "      <td>2017-01-01 12:00:18</td>\n",
              "      <td>309</td>\n",
              "      <td>30</td>\n",
              "    </tr>\n",
              "    <tr>\n",
              "      <th>525</th>\n",
              "      <td>15946642</td>\n",
              "      <td>2017-01-01 12:00:50</td>\n",
              "      <td>253</td>\n",
              "      <td>5</td>\n",
              "    </tr>\n",
              "    <tr>\n",
              "      <th>526</th>\n",
              "      <td>15946643</td>\n",
              "      <td>2017-01-01 12:03:35</td>\n",
              "      <td>254</td>\n",
              "      <td>14</td>\n",
              "    </tr>\n",
              "    <tr>\n",
              "      <th>527</th>\n",
              "      <td>15946644</td>\n",
              "      <td>2017-01-01 12:03:52</td>\n",
              "      <td>250</td>\n",
              "      <td>28</td>\n",
              "    </tr>\n",
              "    <tr>\n",
              "      <th>528</th>\n",
              "      <td>15946645</td>\n",
              "      <td>2017-01-01 12:05:48</td>\n",
              "      <td>254</td>\n",
              "      <td>12</td>\n",
              "    </tr>\n",
              "    <tr>\n",
              "      <th>...</th>\n",
              "      <td>...</td>\n",
              "      <td>...</td>\n",
              "      <td>...</td>\n",
              "      <td>...</td>\n",
              "    </tr>\n",
              "    <tr>\n",
              "      <th>3142141</th>\n",
              "      <td>21717624</td>\n",
              "      <td>2019-12-31 14:54:26</td>\n",
              "      <td>318</td>\n",
              "      <td>10</td>\n",
              "    </tr>\n",
              "    <tr>\n",
              "      <th>3142142</th>\n",
              "      <td>21717629</td>\n",
              "      <td>2019-12-31 14:56:55</td>\n",
              "      <td>345</td>\n",
              "      <td>19</td>\n",
              "    </tr>\n",
              "    <tr>\n",
              "      <th>3142143</th>\n",
              "      <td>21717633</td>\n",
              "      <td>2019-12-31 14:58:43</td>\n",
              "      <td>212</td>\n",
              "      <td>5</td>\n",
              "    </tr>\n",
              "    <tr>\n",
              "      <th>3142144</th>\n",
              "      <td>21717634</td>\n",
              "      <td>2019-12-31 14:58:55</td>\n",
              "      <td>212</td>\n",
              "      <td>22</td>\n",
              "    </tr>\n",
              "    <tr>\n",
              "      <th>3142145</th>\n",
              "      <td>21717635</td>\n",
              "      <td>2019-12-31 14:59:35</td>\n",
              "      <td>251</td>\n",
              "      <td>6</td>\n",
              "    </tr>\n",
              "  </tbody>\n",
              "</table>\n",
              "<p>416061 rows × 4 columns</p>\n",
              "</div>"
            ],
            "text/plain": [
              "          LEAS_NO            LEAS_DATE  LEAS_STATION  LEAS_DEF_NO\n",
              "524      15946641  2017-01-01 12:00:18           309           30\n",
              "525      15946642  2017-01-01 12:00:50           253            5\n",
              "526      15946643  2017-01-01 12:03:35           254           14\n",
              "527      15946644  2017-01-01 12:03:52           250           28\n",
              "528      15946645  2017-01-01 12:05:48           254           12\n",
              "...           ...                  ...           ...          ...\n",
              "3142141  21717624  2019-12-31 14:54:26           318           10\n",
              "3142142  21717629  2019-12-31 14:56:55           345           19\n",
              "3142143  21717633  2019-12-31 14:58:43           212            5\n",
              "3142144  21717634  2019-12-31 14:58:55           212           22\n",
              "3142145  21717635  2019-12-31 14:59:35           251            6\n",
              "\n",
              "[416061 rows x 4 columns]"
            ]
          },
          "metadata": {
            "tags": []
          },
          "execution_count": 49
        }
      ]
    },
    {
      "cell_type": "code",
      "metadata": {
        "id": "b_p7PyG_I3Fw",
        "colab_type": "code",
        "colab": {},
        "outputId": "cc806f74-ccb8-42c2-b4e5-ae4a158a498d"
      },
      "source": [
        "#결측값 확인\n",
        "bicycle_lunch_LEAS.isnull().sum()"
      ],
      "execution_count": null,
      "outputs": [
        {
          "output_type": "execute_result",
          "data": {
            "text/plain": [
              "LEAS_NO         0\n",
              "LEAS_DATE       0\n",
              "LEAS_STATION    0\n",
              "LEAS_DEF_NO     0\n",
              "dtype: int64"
            ]
          },
          "metadata": {
            "tags": []
          },
          "execution_count": 58
        }
      ]
    },
    {
      "cell_type": "code",
      "metadata": {
        "id": "zyaHhLg3I3F1",
        "colab_type": "code",
        "colab": {}
      },
      "source": [
        "#LEAS_STATION의 대여 횟수\n",
        "LEAS_counts2= bicycle_lunch_LEAS['LEAS_STATION'].value_counts()"
      ],
      "execution_count": null,
      "outputs": []
    },
    {
      "cell_type": "code",
      "metadata": {
        "id": "gI4Aw4aMI3F5",
        "colab_type": "code",
        "colab": {},
        "outputId": "f9b67e52-dcb3-4a4e-8f82-0b5a35dcea22"
      },
      "source": [
        "# 점심시간대 대여 횟수를 하나의 데이터 프레임으로 변형\n",
        "hour_12to14=LEAS_counts2.rename_axis('LEAS_STATION').reset_index(name='counts')\n",
        "hour_12to14"
      ],
      "execution_count": null,
      "outputs": [
        {
          "output_type": "execute_result",
          "data": {
            "text/html": [
              "<div>\n",
              "<style scoped>\n",
              "    .dataframe tbody tr th:only-of-type {\n",
              "        vertical-align: middle;\n",
              "    }\n",
              "\n",
              "    .dataframe tbody tr th {\n",
              "        vertical-align: top;\n",
              "    }\n",
              "\n",
              "    .dataframe thead th {\n",
              "        text-align: right;\n",
              "    }\n",
              "</style>\n",
              "<table border=\"1\" class=\"dataframe\">\n",
              "  <thead>\n",
              "    <tr style=\"text-align: right;\">\n",
              "      <th></th>\n",
              "      <th>LEAS_STATION</th>\n",
              "      <th>counts</th>\n",
              "    </tr>\n",
              "  </thead>\n",
              "  <tbody>\n",
              "    <tr>\n",
              "      <th>0</th>\n",
              "      <td>254</td>\n",
              "      <td>12419</td>\n",
              "    </tr>\n",
              "    <tr>\n",
              "      <th>1</th>\n",
              "      <td>253</td>\n",
              "      <td>12399</td>\n",
              "    </tr>\n",
              "    <tr>\n",
              "      <th>2</th>\n",
              "      <td>309</td>\n",
              "      <td>11303</td>\n",
              "    </tr>\n",
              "    <tr>\n",
              "      <th>3</th>\n",
              "      <td>259</td>\n",
              "      <td>9906</td>\n",
              "    </tr>\n",
              "    <tr>\n",
              "      <th>4</th>\n",
              "      <td>310</td>\n",
              "      <td>9608</td>\n",
              "    </tr>\n",
              "    <tr>\n",
              "      <th>...</th>\n",
              "      <td>...</td>\n",
              "      <td>...</td>\n",
              "    </tr>\n",
              "    <tr>\n",
              "      <th>150</th>\n",
              "      <td>992</td>\n",
              "      <td>175</td>\n",
              "    </tr>\n",
              "    <tr>\n",
              "      <th>151</th>\n",
              "      <td>265</td>\n",
              "      <td>161</td>\n",
              "    </tr>\n",
              "    <tr>\n",
              "      <th>152</th>\n",
              "      <td>264</td>\n",
              "      <td>97</td>\n",
              "    </tr>\n",
              "    <tr>\n",
              "      <th>153</th>\n",
              "      <td>351</td>\n",
              "      <td>73</td>\n",
              "    </tr>\n",
              "    <tr>\n",
              "      <th>154</th>\n",
              "      <td>263</td>\n",
              "      <td>32</td>\n",
              "    </tr>\n",
              "  </tbody>\n",
              "</table>\n",
              "<p>155 rows × 2 columns</p>\n",
              "</div>"
            ],
            "text/plain": [
              "     LEAS_STATION  counts\n",
              "0             254   12419\n",
              "1             253   12399\n",
              "2             309   11303\n",
              "3             259    9906\n",
              "4             310    9608\n",
              "..            ...     ...\n",
              "150           992     175\n",
              "151           265     161\n",
              "152           264      97\n",
              "153           351      73\n",
              "154           263      32\n",
              "\n",
              "[155 rows x 2 columns]"
            ]
          },
          "metadata": {
            "tags": []
          },
          "execution_count": 76
        }
      ]
    },
    {
      "cell_type": "code",
      "metadata": {
        "id": "wSjFvkN7I3F9",
        "colab_type": "code",
        "colab": {},
        "outputId": "c100d53a-bcf9-4b75-8718-49f108a9b2d3"
      },
      "source": [
        "hour_12to14['위도']=0\n",
        "hour_12to14['경도']=0\n",
        "\n",
        "for i in range(len(hour_12to14['LEAS_STATION'])):\n",
        "    for j in range(len(bicycle_station['Station_ID'])):\n",
        "        if hour_12to14['LEAS_STATION'].iloc[i]==bicycle_station['Station_ID'].iloc[j]:\n",
        "            hour_12to14['위도'].iloc[i]=bicycle_station['위도'].iloc[j]\n",
        "            hour_12to14['경도'].iloc[i]=bicycle_station['경도'].iloc[j]"
      ],
      "execution_count": null,
      "outputs": [
        {
          "output_type": "stream",
          "text": [
            "/opt/app-root/lib/python3.6/site-packages/pandas/core/indexing.py:670: SettingWithCopyWarning: \n",
            "A value is trying to be set on a copy of a slice from a DataFrame\n",
            "\n",
            "See the caveats in the documentation: https://pandas.pydata.org/pandas-docs/stable/user_guide/indexing.html#returning-a-view-versus-a-copy\n",
            "  iloc._setitem_with_indexer(indexer, value)\n"
          ],
          "name": "stderr"
        }
      ]
    },
    {
      "cell_type": "code",
      "metadata": {
        "id": "BvMh9U8MI3GA",
        "colab_type": "code",
        "colab": {},
        "outputId": "cc4db610-11f4-47f5-dd9c-ad378ef1f718"
      },
      "source": [
        "hour_12to14.head()"
      ],
      "execution_count": null,
      "outputs": [
        {
          "output_type": "execute_result",
          "data": {
            "text/html": [
              "<div>\n",
              "<style scoped>\n",
              "    .dataframe tbody tr th:only-of-type {\n",
              "        vertical-align: middle;\n",
              "    }\n",
              "\n",
              "    .dataframe tbody tr th {\n",
              "        vertical-align: top;\n",
              "    }\n",
              "\n",
              "    .dataframe thead th {\n",
              "        text-align: right;\n",
              "    }\n",
              "</style>\n",
              "<table border=\"1\" class=\"dataframe\">\n",
              "  <thead>\n",
              "    <tr style=\"text-align: right;\">\n",
              "      <th></th>\n",
              "      <th>LEAS_STATION</th>\n",
              "      <th>counts</th>\n",
              "      <th>위도</th>\n",
              "      <th>경도</th>\n",
              "    </tr>\n",
              "  </thead>\n",
              "  <tbody>\n",
              "    <tr>\n",
              "      <th>0</th>\n",
              "      <td>254</td>\n",
              "      <td>12419</td>\n",
              "      <td>37.655647</td>\n",
              "      <td>126.768352</td>\n",
              "    </tr>\n",
              "    <tr>\n",
              "      <th>1</th>\n",
              "      <td>253</td>\n",
              "      <td>12399</td>\n",
              "      <td>37.663241</td>\n",
              "      <td>126.762162</td>\n",
              "    </tr>\n",
              "    <tr>\n",
              "      <th>2</th>\n",
              "      <td>309</td>\n",
              "      <td>11303</td>\n",
              "      <td>37.671278</td>\n",
              "      <td>126.761898</td>\n",
              "    </tr>\n",
              "    <tr>\n",
              "      <th>3</th>\n",
              "      <td>259</td>\n",
              "      <td>9906</td>\n",
              "      <td>37.656722</td>\n",
              "      <td>126.771620</td>\n",
              "    </tr>\n",
              "    <tr>\n",
              "      <th>4</th>\n",
              "      <td>310</td>\n",
              "      <td>9608</td>\n",
              "      <td>37.669687</td>\n",
              "      <td>126.761237</td>\n",
              "    </tr>\n",
              "  </tbody>\n",
              "</table>\n",
              "</div>"
            ],
            "text/plain": [
              "   LEAS_STATION  counts         위도          경도\n",
              "0           254   12419  37.655647  126.768352\n",
              "1           253   12399  37.663241  126.762162\n",
              "2           309   11303  37.671278  126.761898\n",
              "3           259    9906  37.656722  126.771620\n",
              "4           310    9608  37.669687  126.761237"
            ]
          },
          "metadata": {
            "tags": []
          },
          "execution_count": 79
        }
      ]
    },
    {
      "cell_type": "code",
      "metadata": {
        "id": "wfHmS3baI3GG",
        "colab_type": "code",
        "colab": {}
      },
      "source": [
        "# 퇴근 시간 별 시리즈 생성\n",
        "toegeun16=bicycle_now['LEAS_hour']=='16'\n",
        "toegeun17=bicycle_now['LEAS_hour']=='17'\n",
        "toegeun18=bicycle_now['LEAS_hour']=='18'\n",
        "toegeun19=bicycle_now['LEAS_hour']=='19'"
      ],
      "execution_count": null,
      "outputs": []
    },
    {
      "cell_type": "code",
      "metadata": {
        "id": "60YjzADOI3GK",
        "colab_type": "code",
        "colab": {}
      },
      "source": [
        "# 해당 시리즈를 bicycle_now의 칼럼으로 추가\n",
        "toegeun16=bicycle_now[toegeun16]\n",
        "toegeun17=bicycle_now[toegeun17]\n",
        "toegeun18=bicycle_now[toegeun18]\n",
        "toegeun19=bicycle_now[toegeun19]"
      ],
      "execution_count": null,
      "outputs": []
    },
    {
      "cell_type": "code",
      "metadata": {
        "id": "mQYRJ_BOI3GO",
        "colab_type": "code",
        "colab": {},
        "outputId": "5e05d28b-c7fd-4721-fe43-e3d6491d9ef6"
      },
      "source": [
        "bicycle_toegeun=toegeun16.append([toegeun17, toegeun18, toegeun19])\n",
        "bicycle_toegeun"
      ],
      "execution_count": null,
      "outputs": [
        {
          "output_type": "execute_result",
          "data": {
            "text/html": [
              "<div>\n",
              "<style scoped>\n",
              "    .dataframe tbody tr th:only-of-type {\n",
              "        vertical-align: middle;\n",
              "    }\n",
              "\n",
              "    .dataframe tbody tr th {\n",
              "        vertical-align: top;\n",
              "    }\n",
              "\n",
              "    .dataframe thead th {\n",
              "        text-align: right;\n",
              "    }\n",
              "</style>\n",
              "<table border=\"1\" class=\"dataframe\">\n",
              "  <thead>\n",
              "    <tr style=\"text-align: right;\">\n",
              "      <th></th>\n",
              "      <th>LEAS_NO</th>\n",
              "      <th>LEAS_STAT</th>\n",
              "      <th>LEAS_DATE</th>\n",
              "      <th>LEAS_STATION</th>\n",
              "      <th>LEAS_DEF_NO</th>\n",
              "      <th>RTN_DATE</th>\n",
              "      <th>RTN_STATION</th>\n",
              "      <th>RTN_DEF_NO</th>\n",
              "      <th>TRNV_QTY</th>\n",
              "      <th>MEMB_DIV</th>\n",
              "      <th>MEMB_NO</th>\n",
              "      <th>TEMP_MEMB_NO</th>\n",
              "      <th>BIKE_TAG</th>\n",
              "      <th>RTN_PROCESS</th>\n",
              "      <th>tempDATE</th>\n",
              "      <th>LEAS_hour</th>\n",
              "    </tr>\n",
              "  </thead>\n",
              "  <tbody>\n",
              "    <tr>\n",
              "      <th>876</th>\n",
              "      <td>15947200</td>\n",
              "      <td>2</td>\n",
              "      <td>2017-01-01 16:01:24</td>\n",
              "      <td>308</td>\n",
              "      <td>2</td>\n",
              "      <td>2017-01-01 16:16:49</td>\n",
              "      <td>330</td>\n",
              "      <td>2</td>\n",
              "      <td>21559.0</td>\n",
              "      <td>3</td>\n",
              "      <td>187628</td>\n",
              "      <td>0.0</td>\n",
              "      <td>1A8440000009B3</td>\n",
              "      <td>NaN</td>\n",
              "      <td>[2017-01-01, 16:01:24]</td>\n",
              "      <td>16</td>\n",
              "    </tr>\n",
              "    <tr>\n",
              "      <th>877</th>\n",
              "      <td>15947203</td>\n",
              "      <td>2</td>\n",
              "      <td>2017-01-01 16:02:04</td>\n",
              "      <td>308</td>\n",
              "      <td>9</td>\n",
              "      <td>2017-01-01 16:28:30</td>\n",
              "      <td>330</td>\n",
              "      <td>7</td>\n",
              "      <td>23988.0</td>\n",
              "      <td>2</td>\n",
              "      <td>187831</td>\n",
              "      <td>0.0</td>\n",
              "      <td>1A84400000F50F</td>\n",
              "      <td>NaN</td>\n",
              "      <td>[2017-01-01, 16:02:04]</td>\n",
              "      <td>16</td>\n",
              "    </tr>\n",
              "    <tr>\n",
              "      <th>878</th>\n",
              "      <td>15947204</td>\n",
              "      <td>2</td>\n",
              "      <td>2017-01-01 16:02:53</td>\n",
              "      <td>104</td>\n",
              "      <td>1</td>\n",
              "      <td>2017-01-01 16:15:14</td>\n",
              "      <td>330</td>\n",
              "      <td>16</td>\n",
              "      <td>9190.0</td>\n",
              "      <td>99</td>\n",
              "      <td>0</td>\n",
              "      <td>3185522.0</td>\n",
              "      <td>1A844000000092</td>\n",
              "      <td>NaN</td>\n",
              "      <td>[2017-01-01, 16:02:53]</td>\n",
              "      <td>16</td>\n",
              "    </tr>\n",
              "    <tr>\n",
              "      <th>879</th>\n",
              "      <td>15947205</td>\n",
              "      <td>2</td>\n",
              "      <td>2017-01-01 16:03:01</td>\n",
              "      <td>257</td>\n",
              "      <td>35</td>\n",
              "      <td>2017-01-01 16:44:13</td>\n",
              "      <td>207</td>\n",
              "      <td>5</td>\n",
              "      <td>0.0</td>\n",
              "      <td>3</td>\n",
              "      <td>187041</td>\n",
              "      <td>0.0</td>\n",
              "      <td>1A8440000002F8</td>\n",
              "      <td>NaN</td>\n",
              "      <td>[2017-01-01, 16:03:01]</td>\n",
              "      <td>16</td>\n",
              "    </tr>\n",
              "    <tr>\n",
              "      <th>880</th>\n",
              "      <td>15947206</td>\n",
              "      <td>2</td>\n",
              "      <td>2017-01-01 16:03:33</td>\n",
              "      <td>252</td>\n",
              "      <td>20</td>\n",
              "      <td>2017-01-01 16:49:24</td>\n",
              "      <td>252</td>\n",
              "      <td>20</td>\n",
              "      <td>0.0</td>\n",
              "      <td>99</td>\n",
              "      <td>0</td>\n",
              "      <td>3185523.0</td>\n",
              "      <td>1A844000000382</td>\n",
              "      <td>NaN</td>\n",
              "      <td>[2017-01-01, 16:03:33]</td>\n",
              "      <td>16</td>\n",
              "    </tr>\n",
              "    <tr>\n",
              "      <th>...</th>\n",
              "      <td>...</td>\n",
              "      <td>...</td>\n",
              "      <td>...</td>\n",
              "      <td>...</td>\n",
              "      <td>...</td>\n",
              "      <td>...</td>\n",
              "      <td>...</td>\n",
              "      <td>...</td>\n",
              "      <td>...</td>\n",
              "      <td>...</td>\n",
              "      <td>...</td>\n",
              "      <td>...</td>\n",
              "      <td>...</td>\n",
              "      <td>...</td>\n",
              "      <td>...</td>\n",
              "      <td>...</td>\n",
              "    </tr>\n",
              "    <tr>\n",
              "      <th>3142517</th>\n",
              "      <td>21718287</td>\n",
              "      <td>2</td>\n",
              "      <td>2019-12-31 19:53:30</td>\n",
              "      <td>203</td>\n",
              "      <td>17</td>\n",
              "      <td>2019-12-31 19:55:46</td>\n",
              "      <td>202</td>\n",
              "      <td>7</td>\n",
              "      <td>0.0</td>\n",
              "      <td>3</td>\n",
              "      <td>89273</td>\n",
              "      <td>0.0</td>\n",
              "      <td>1A84400000FDC4</td>\n",
              "      <td>NaN</td>\n",
              "      <td>[2019-12-31, 19:53:30]</td>\n",
              "      <td>19</td>\n",
              "    </tr>\n",
              "    <tr>\n",
              "      <th>3142518</th>\n",
              "      <td>21718289</td>\n",
              "      <td>2</td>\n",
              "      <td>2019-12-31 19:54:22</td>\n",
              "      <td>248</td>\n",
              "      <td>2</td>\n",
              "      <td>2019-12-31 20:19:04</td>\n",
              "      <td>330</td>\n",
              "      <td>14</td>\n",
              "      <td>0.0</td>\n",
              "      <td>3</td>\n",
              "      <td>229913</td>\n",
              "      <td>0.0</td>\n",
              "      <td>1A84400000FC95</td>\n",
              "      <td>NaN</td>\n",
              "      <td>[2019-12-31, 19:54:22]</td>\n",
              "      <td>19</td>\n",
              "    </tr>\n",
              "    <tr>\n",
              "      <th>3142519</th>\n",
              "      <td>21718291</td>\n",
              "      <td>2</td>\n",
              "      <td>2019-12-31 19:54:47</td>\n",
              "      <td>321</td>\n",
              "      <td>21</td>\n",
              "      <td>2019-12-31 20:50:17</td>\n",
              "      <td>0</td>\n",
              "      <td>0</td>\n",
              "      <td>NaN</td>\n",
              "      <td>36</td>\n",
              "      <td>180156</td>\n",
              "      <td>0.0</td>\n",
              "      <td>1A84400000F6A8</td>\n",
              "      <td>1.0</td>\n",
              "      <td>[2019-12-31, 19:54:47]</td>\n",
              "      <td>19</td>\n",
              "    </tr>\n",
              "    <tr>\n",
              "      <th>3142520</th>\n",
              "      <td>21718295</td>\n",
              "      <td>2</td>\n",
              "      <td>2019-12-31 19:55:41</td>\n",
              "      <td>215</td>\n",
              "      <td>8</td>\n",
              "      <td>2019-12-31 20:08:35</td>\n",
              "      <td>231</td>\n",
              "      <td>16</td>\n",
              "      <td>0.0</td>\n",
              "      <td>12</td>\n",
              "      <td>170365</td>\n",
              "      <td>0.0</td>\n",
              "      <td>1A84400000FD10</td>\n",
              "      <td>NaN</td>\n",
              "      <td>[2019-12-31, 19:55:41]</td>\n",
              "      <td>19</td>\n",
              "    </tr>\n",
              "    <tr>\n",
              "      <th>3142521</th>\n",
              "      <td>21718296</td>\n",
              "      <td>2</td>\n",
              "      <td>2019-12-31 19:57:51</td>\n",
              "      <td>349</td>\n",
              "      <td>11</td>\n",
              "      <td>2019-12-31 20:05:09</td>\n",
              "      <td>341</td>\n",
              "      <td>26</td>\n",
              "      <td>0.0</td>\n",
              "      <td>6</td>\n",
              "      <td>224538</td>\n",
              "      <td>0.0</td>\n",
              "      <td>1A84400000F0DE</td>\n",
              "      <td>NaN</td>\n",
              "      <td>[2019-12-31, 19:57:51]</td>\n",
              "      <td>19</td>\n",
              "    </tr>\n",
              "  </tbody>\n",
              "</table>\n",
              "<p>890839 rows × 16 columns</p>\n",
              "</div>"
            ],
            "text/plain": [
              "          LEAS_NO  LEAS_STAT            LEAS_DATE  LEAS_STATION  LEAS_DEF_NO  \\\n",
              "876      15947200          2  2017-01-01 16:01:24           308            2   \n",
              "877      15947203          2  2017-01-01 16:02:04           308            9   \n",
              "878      15947204          2  2017-01-01 16:02:53           104            1   \n",
              "879      15947205          2  2017-01-01 16:03:01           257           35   \n",
              "880      15947206          2  2017-01-01 16:03:33           252           20   \n",
              "...           ...        ...                  ...           ...          ...   \n",
              "3142517  21718287          2  2019-12-31 19:53:30           203           17   \n",
              "3142518  21718289          2  2019-12-31 19:54:22           248            2   \n",
              "3142519  21718291          2  2019-12-31 19:54:47           321           21   \n",
              "3142520  21718295          2  2019-12-31 19:55:41           215            8   \n",
              "3142521  21718296          2  2019-12-31 19:57:51           349           11   \n",
              "\n",
              "                    RTN_DATE  RTN_STATION  RTN_DEF_NO  TRNV_QTY MEMB_DIV  \\\n",
              "876      2017-01-01 16:16:49          330           2   21559.0        3   \n",
              "877      2017-01-01 16:28:30          330           7   23988.0        2   \n",
              "878      2017-01-01 16:15:14          330          16    9190.0       99   \n",
              "879      2017-01-01 16:44:13          207           5       0.0        3   \n",
              "880      2017-01-01 16:49:24          252          20       0.0       99   \n",
              "...                      ...          ...         ...       ...      ...   \n",
              "3142517  2019-12-31 19:55:46          202           7       0.0        3   \n",
              "3142518  2019-12-31 20:19:04          330          14       0.0        3   \n",
              "3142519  2019-12-31 20:50:17            0           0       NaN       36   \n",
              "3142520  2019-12-31 20:08:35          231          16       0.0       12   \n",
              "3142521  2019-12-31 20:05:09          341          26       0.0        6   \n",
              "\n",
              "         MEMB_NO  TEMP_MEMB_NO        BIKE_TAG  RTN_PROCESS  \\\n",
              "876       187628           0.0  1A8440000009B3          NaN   \n",
              "877       187831           0.0  1A84400000F50F          NaN   \n",
              "878            0     3185522.0  1A844000000092          NaN   \n",
              "879       187041           0.0  1A8440000002F8          NaN   \n",
              "880            0     3185523.0  1A844000000382          NaN   \n",
              "...          ...           ...             ...          ...   \n",
              "3142517    89273           0.0  1A84400000FDC4          NaN   \n",
              "3142518   229913           0.0  1A84400000FC95          NaN   \n",
              "3142519   180156           0.0  1A84400000F6A8          1.0   \n",
              "3142520   170365           0.0  1A84400000FD10          NaN   \n",
              "3142521   224538           0.0  1A84400000F0DE          NaN   \n",
              "\n",
              "                       tempDATE LEAS_hour  \n",
              "876      [2017-01-01, 16:01:24]        16  \n",
              "877      [2017-01-01, 16:02:04]        16  \n",
              "878      [2017-01-01, 16:02:53]        16  \n",
              "879      [2017-01-01, 16:03:01]        16  \n",
              "880      [2017-01-01, 16:03:33]        16  \n",
              "...                         ...       ...  \n",
              "3142517  [2019-12-31, 19:53:30]        19  \n",
              "3142518  [2019-12-31, 19:54:22]        19  \n",
              "3142519  [2019-12-31, 19:54:47]        19  \n",
              "3142520  [2019-12-31, 19:55:41]        19  \n",
              "3142521  [2019-12-31, 19:57:51]        19  \n",
              "\n",
              "[890839 rows x 16 columns]"
            ]
          },
          "metadata": {
            "tags": []
          },
          "execution_count": 64
        }
      ]
    },
    {
      "cell_type": "code",
      "metadata": {
        "id": "_T2nYkpzI3GS",
        "colab_type": "code",
        "colab": {},
        "outputId": "0f395fa7-dff5-475a-8676-fdfb676dc8c9"
      },
      "source": [
        "## 퇴근 시간 대 자전거 스테이션 현황\n",
        "bicycle_toegeun_LEAS=bicycle_toegeun[['LEAS_NO', 'LEAS_DATE', 'LEAS_STATION', 'LEAS_DEF_NO']]\n",
        "bicycle_toegeun_LEAS"
      ],
      "execution_count": null,
      "outputs": [
        {
          "output_type": "execute_result",
          "data": {
            "text/html": [
              "<div>\n",
              "<style scoped>\n",
              "    .dataframe tbody tr th:only-of-type {\n",
              "        vertical-align: middle;\n",
              "    }\n",
              "\n",
              "    .dataframe tbody tr th {\n",
              "        vertical-align: top;\n",
              "    }\n",
              "\n",
              "    .dataframe thead th {\n",
              "        text-align: right;\n",
              "    }\n",
              "</style>\n",
              "<table border=\"1\" class=\"dataframe\">\n",
              "  <thead>\n",
              "    <tr style=\"text-align: right;\">\n",
              "      <th></th>\n",
              "      <th>LEAS_NO</th>\n",
              "      <th>LEAS_DATE</th>\n",
              "      <th>LEAS_STATION</th>\n",
              "      <th>LEAS_DEF_NO</th>\n",
              "    </tr>\n",
              "  </thead>\n",
              "  <tbody>\n",
              "    <tr>\n",
              "      <th>876</th>\n",
              "      <td>15947200</td>\n",
              "      <td>2017-01-01 16:01:24</td>\n",
              "      <td>308</td>\n",
              "      <td>2</td>\n",
              "    </tr>\n",
              "    <tr>\n",
              "      <th>877</th>\n",
              "      <td>15947203</td>\n",
              "      <td>2017-01-01 16:02:04</td>\n",
              "      <td>308</td>\n",
              "      <td>9</td>\n",
              "    </tr>\n",
              "    <tr>\n",
              "      <th>878</th>\n",
              "      <td>15947204</td>\n",
              "      <td>2017-01-01 16:02:53</td>\n",
              "      <td>104</td>\n",
              "      <td>1</td>\n",
              "    </tr>\n",
              "    <tr>\n",
              "      <th>879</th>\n",
              "      <td>15947205</td>\n",
              "      <td>2017-01-01 16:03:01</td>\n",
              "      <td>257</td>\n",
              "      <td>35</td>\n",
              "    </tr>\n",
              "    <tr>\n",
              "      <th>880</th>\n",
              "      <td>15947206</td>\n",
              "      <td>2017-01-01 16:03:33</td>\n",
              "      <td>252</td>\n",
              "      <td>20</td>\n",
              "    </tr>\n",
              "    <tr>\n",
              "      <th>...</th>\n",
              "      <td>...</td>\n",
              "      <td>...</td>\n",
              "      <td>...</td>\n",
              "      <td>...</td>\n",
              "    </tr>\n",
              "    <tr>\n",
              "      <th>3142517</th>\n",
              "      <td>21718287</td>\n",
              "      <td>2019-12-31 19:53:30</td>\n",
              "      <td>203</td>\n",
              "      <td>17</td>\n",
              "    </tr>\n",
              "    <tr>\n",
              "      <th>3142518</th>\n",
              "      <td>21718289</td>\n",
              "      <td>2019-12-31 19:54:22</td>\n",
              "      <td>248</td>\n",
              "      <td>2</td>\n",
              "    </tr>\n",
              "    <tr>\n",
              "      <th>3142519</th>\n",
              "      <td>21718291</td>\n",
              "      <td>2019-12-31 19:54:47</td>\n",
              "      <td>321</td>\n",
              "      <td>21</td>\n",
              "    </tr>\n",
              "    <tr>\n",
              "      <th>3142520</th>\n",
              "      <td>21718295</td>\n",
              "      <td>2019-12-31 19:55:41</td>\n",
              "      <td>215</td>\n",
              "      <td>8</td>\n",
              "    </tr>\n",
              "    <tr>\n",
              "      <th>3142521</th>\n",
              "      <td>21718296</td>\n",
              "      <td>2019-12-31 19:57:51</td>\n",
              "      <td>349</td>\n",
              "      <td>11</td>\n",
              "    </tr>\n",
              "  </tbody>\n",
              "</table>\n",
              "<p>890839 rows × 4 columns</p>\n",
              "</div>"
            ],
            "text/plain": [
              "          LEAS_NO            LEAS_DATE  LEAS_STATION  LEAS_DEF_NO\n",
              "876      15947200  2017-01-01 16:01:24           308            2\n",
              "877      15947203  2017-01-01 16:02:04           308            9\n",
              "878      15947204  2017-01-01 16:02:53           104            1\n",
              "879      15947205  2017-01-01 16:03:01           257           35\n",
              "880      15947206  2017-01-01 16:03:33           252           20\n",
              "...           ...                  ...           ...          ...\n",
              "3142517  21718287  2019-12-31 19:53:30           203           17\n",
              "3142518  21718289  2019-12-31 19:54:22           248            2\n",
              "3142519  21718291  2019-12-31 19:54:47           321           21\n",
              "3142520  21718295  2019-12-31 19:55:41           215            8\n",
              "3142521  21718296  2019-12-31 19:57:51           349           11\n",
              "\n",
              "[890839 rows x 4 columns]"
            ]
          },
          "metadata": {
            "tags": []
          },
          "execution_count": 65
        }
      ]
    },
    {
      "cell_type": "code",
      "metadata": {
        "id": "D8iogzDJI3GV",
        "colab_type": "code",
        "colab": {},
        "outputId": "cc38bf5f-60d5-40bb-d95d-25ec65be0807"
      },
      "source": [
        "#결측값 확인\n",
        "bicycle_toegeun_LEAS.isnull().sum()"
      ],
      "execution_count": null,
      "outputs": [
        {
          "output_type": "execute_result",
          "data": {
            "text/plain": [
              "LEAS_NO         0\n",
              "LEAS_DATE       0\n",
              "LEAS_STATION    0\n",
              "LEAS_DEF_NO     0\n",
              "dtype: int64"
            ]
          },
          "metadata": {
            "tags": []
          },
          "execution_count": 66
        }
      ]
    },
    {
      "cell_type": "code",
      "metadata": {
        "id": "AP3ABXMdI3Gf",
        "colab_type": "code",
        "colab": {}
      },
      "source": [
        "#LEAS_STATION의 대여횟수\n",
        "LEAS_counts3=bicycle_toegeun_LEAS['LEAS_STATION'].value_counts()"
      ],
      "execution_count": null,
      "outputs": []
    },
    {
      "cell_type": "code",
      "metadata": {
        "id": "W8-DeMa6I3Gn",
        "colab_type": "code",
        "colab": {},
        "outputId": "38588ebc-821f-4fa9-b556-b3168a72080a"
      },
      "source": [
        "# 퇴근 시간대 대여횟수를 하나의 데이터 프레임으로 변형\n",
        "hour_16to19=LEAS_counts3.rename_axis('LEAS_STATION').reset_index(name='counts')\n",
        "hour_16to19"
      ],
      "execution_count": null,
      "outputs": [
        {
          "output_type": "execute_result",
          "data": {
            "text/html": [
              "<div>\n",
              "<style scoped>\n",
              "    .dataframe tbody tr th:only-of-type {\n",
              "        vertical-align: middle;\n",
              "    }\n",
              "\n",
              "    .dataframe tbody tr th {\n",
              "        vertical-align: top;\n",
              "    }\n",
              "\n",
              "    .dataframe thead th {\n",
              "        text-align: right;\n",
              "    }\n",
              "</style>\n",
              "<table border=\"1\" class=\"dataframe\">\n",
              "  <thead>\n",
              "    <tr style=\"text-align: right;\">\n",
              "      <th></th>\n",
              "      <th>LEAS_STATION</th>\n",
              "      <th>counts</th>\n",
              "    </tr>\n",
              "  </thead>\n",
              "  <tbody>\n",
              "    <tr>\n",
              "      <th>0</th>\n",
              "      <td>254</td>\n",
              "      <td>29333</td>\n",
              "    </tr>\n",
              "    <tr>\n",
              "      <th>1</th>\n",
              "      <td>253</td>\n",
              "      <td>26986</td>\n",
              "    </tr>\n",
              "    <tr>\n",
              "      <th>2</th>\n",
              "      <td>309</td>\n",
              "      <td>25843</td>\n",
              "    </tr>\n",
              "    <tr>\n",
              "      <th>3</th>\n",
              "      <td>259</td>\n",
              "      <td>25659</td>\n",
              "    </tr>\n",
              "    <tr>\n",
              "      <th>4</th>\n",
              "      <td>310</td>\n",
              "      <td>22368</td>\n",
              "    </tr>\n",
              "    <tr>\n",
              "      <th>...</th>\n",
              "      <td>...</td>\n",
              "      <td>...</td>\n",
              "    </tr>\n",
              "    <tr>\n",
              "      <th>151</th>\n",
              "      <td>264</td>\n",
              "      <td>147</td>\n",
              "    </tr>\n",
              "    <tr>\n",
              "      <th>152</th>\n",
              "      <td>265</td>\n",
              "      <td>130</td>\n",
              "    </tr>\n",
              "    <tr>\n",
              "      <th>153</th>\n",
              "      <td>351</td>\n",
              "      <td>116</td>\n",
              "    </tr>\n",
              "    <tr>\n",
              "      <th>154</th>\n",
              "      <td>263</td>\n",
              "      <td>46</td>\n",
              "    </tr>\n",
              "    <tr>\n",
              "      <th>155</th>\n",
              "      <td>998</td>\n",
              "      <td>4</td>\n",
              "    </tr>\n",
              "  </tbody>\n",
              "</table>\n",
              "<p>156 rows × 2 columns</p>\n",
              "</div>"
            ],
            "text/plain": [
              "     LEAS_STATION  counts\n",
              "0             254   29333\n",
              "1             253   26986\n",
              "2             309   25843\n",
              "3             259   25659\n",
              "4             310   22368\n",
              "..            ...     ...\n",
              "151           264     147\n",
              "152           265     130\n",
              "153           351     116\n",
              "154           263      46\n",
              "155           998       4\n",
              "\n",
              "[156 rows x 2 columns]"
            ]
          },
          "metadata": {
            "tags": []
          },
          "execution_count": 69
        }
      ]
    },
    {
      "cell_type": "code",
      "metadata": {
        "id": "Fh-e4544I3Gt",
        "colab_type": "code",
        "colab": {},
        "outputId": "ab1ad4dd-b1ab-4a39-c029-b7f2f3befc3d"
      },
      "source": [
        "hour_16to19['위도']=0\n",
        "hour_16to19['경도']=0\n",
        "\n",
        "for i in range(len(hour_16to19['LEAS_STATION'])):\n",
        "    for j in range(len(bicycle_station['Station_ID'])):\n",
        "        if hour_16to19['LEAS_STATION'].iloc[i]==bicycle_station['Station_ID'].iloc[j]:\n",
        "            hour_16to19['위도'].iloc[i]=bicycle_station['위도'].iloc[j]\n",
        "            hour_16to19['경도'].iloc[i]=bicycle_station['경도'].iloc[j]"
      ],
      "execution_count": null,
      "outputs": [
        {
          "output_type": "stream",
          "text": [
            "/opt/app-root/lib/python3.6/site-packages/pandas/core/indexing.py:670: SettingWithCopyWarning: \n",
            "A value is trying to be set on a copy of a slice from a DataFrame\n",
            "\n",
            "See the caveats in the documentation: https://pandas.pydata.org/pandas-docs/stable/user_guide/indexing.html#returning-a-view-versus-a-copy\n",
            "  iloc._setitem_with_indexer(indexer, value)\n"
          ],
          "name": "stderr"
        }
      ]
    },
    {
      "cell_type": "code",
      "metadata": {
        "id": "3JjbQud2I3G0",
        "colab_type": "code",
        "colab": {},
        "outputId": "941d15f2-7e6e-4a4a-d56f-8121d514a641"
      },
      "source": [
        "hour_16to19.head()"
      ],
      "execution_count": null,
      "outputs": [
        {
          "output_type": "execute_result",
          "data": {
            "text/html": [
              "<div>\n",
              "<style scoped>\n",
              "    .dataframe tbody tr th:only-of-type {\n",
              "        vertical-align: middle;\n",
              "    }\n",
              "\n",
              "    .dataframe tbody tr th {\n",
              "        vertical-align: top;\n",
              "    }\n",
              "\n",
              "    .dataframe thead th {\n",
              "        text-align: right;\n",
              "    }\n",
              "</style>\n",
              "<table border=\"1\" class=\"dataframe\">\n",
              "  <thead>\n",
              "    <tr style=\"text-align: right;\">\n",
              "      <th></th>\n",
              "      <th>LEAS_STATION</th>\n",
              "      <th>counts</th>\n",
              "      <th>위도</th>\n",
              "      <th>경도</th>\n",
              "    </tr>\n",
              "  </thead>\n",
              "  <tbody>\n",
              "    <tr>\n",
              "      <th>0</th>\n",
              "      <td>254</td>\n",
              "      <td>29333</td>\n",
              "      <td>37.655647</td>\n",
              "      <td>126.768352</td>\n",
              "    </tr>\n",
              "    <tr>\n",
              "      <th>1</th>\n",
              "      <td>253</td>\n",
              "      <td>26986</td>\n",
              "      <td>37.663241</td>\n",
              "      <td>126.762162</td>\n",
              "    </tr>\n",
              "    <tr>\n",
              "      <th>2</th>\n",
              "      <td>309</td>\n",
              "      <td>25843</td>\n",
              "      <td>37.671278</td>\n",
              "      <td>126.761898</td>\n",
              "    </tr>\n",
              "    <tr>\n",
              "      <th>3</th>\n",
              "      <td>259</td>\n",
              "      <td>25659</td>\n",
              "      <td>37.656722</td>\n",
              "      <td>126.771620</td>\n",
              "    </tr>\n",
              "    <tr>\n",
              "      <th>4</th>\n",
              "      <td>310</td>\n",
              "      <td>22368</td>\n",
              "      <td>37.669687</td>\n",
              "      <td>126.761237</td>\n",
              "    </tr>\n",
              "  </tbody>\n",
              "</table>\n",
              "</div>"
            ],
            "text/plain": [
              "   LEAS_STATION  counts         위도          경도\n",
              "0           254   29333  37.655647  126.768352\n",
              "1           253   26986  37.663241  126.762162\n",
              "2           309   25843  37.671278  126.761898\n",
              "3           259   25659  37.656722  126.771620\n",
              "4           310   22368  37.669687  126.761237"
            ]
          },
          "metadata": {
            "tags": []
          },
          "execution_count": 80
        }
      ]
    },
    {
      "cell_type": "markdown",
      "metadata": {
        "id": "7hiZmLHRI3G6",
        "colab_type": "text"
      },
      "source": [
        "## 막차 시간 이후 자전거 스테이션 현황"
      ]
    },
    {
      "cell_type": "code",
      "metadata": {
        "id": "K-S0WAEVI3G7",
        "colab_type": "code",
        "colab": {},
        "outputId": "0f4ec913-eade-4a5e-e3a6-d0e80ccc9529"
      },
      "source": [
        "bicycle_makcha_LEAS=bicycle_makcha[['LEAS_NO', 'LEAS_DATE', 'LEAS_STATION', 'LEAS_DEF_NO']]\n",
        "bicycle_makcha_LEAS"
      ],
      "execution_count": null,
      "outputs": [
        {
          "output_type": "execute_result",
          "data": {
            "text/html": [
              "<div>\n",
              "<style scoped>\n",
              "    .dataframe tbody tr th:only-of-type {\n",
              "        vertical-align: middle;\n",
              "    }\n",
              "\n",
              "    .dataframe tbody tr th {\n",
              "        vertical-align: top;\n",
              "    }\n",
              "\n",
              "    .dataframe thead th {\n",
              "        text-align: right;\n",
              "    }\n",
              "</style>\n",
              "<table border=\"1\" class=\"dataframe\">\n",
              "  <thead>\n",
              "    <tr style=\"text-align: right;\">\n",
              "      <th></th>\n",
              "      <th>LEAS_NO</th>\n",
              "      <th>LEAS_DATE</th>\n",
              "      <th>LEAS_STATION</th>\n",
              "      <th>LEAS_DEF_NO</th>\n",
              "    </tr>\n",
              "  </thead>\n",
              "  <tbody>\n",
              "    <tr>\n",
              "      <th>0</th>\n",
              "      <td>15945541</td>\n",
              "      <td>2017-01-01 00:00:41</td>\n",
              "      <td>213</td>\n",
              "      <td>18</td>\n",
              "    </tr>\n",
              "    <tr>\n",
              "      <th>1</th>\n",
              "      <td>15945542</td>\n",
              "      <td>2017-01-01 00:01:03</td>\n",
              "      <td>231</td>\n",
              "      <td>4</td>\n",
              "    </tr>\n",
              "    <tr>\n",
              "      <th>2</th>\n",
              "      <td>15945543</td>\n",
              "      <td>2017-01-01 00:01:50</td>\n",
              "      <td>119</td>\n",
              "      <td>14</td>\n",
              "    </tr>\n",
              "    <tr>\n",
              "      <th>3</th>\n",
              "      <td>15945544</td>\n",
              "      <td>2017-01-01 00:02:09</td>\n",
              "      <td>121</td>\n",
              "      <td>17</td>\n",
              "    </tr>\n",
              "    <tr>\n",
              "      <th>4</th>\n",
              "      <td>15945545</td>\n",
              "      <td>2017-01-01 00:03:32</td>\n",
              "      <td>320</td>\n",
              "      <td>29</td>\n",
              "    </tr>\n",
              "    <tr>\n",
              "      <th>...</th>\n",
              "      <td>...</td>\n",
              "      <td>...</td>\n",
              "      <td>...</td>\n",
              "      <td>...</td>\n",
              "    </tr>\n",
              "    <tr>\n",
              "      <th>3141701</th>\n",
              "      <td>21716337</td>\n",
              "      <td>2019-12-31 03:12:34</td>\n",
              "      <td>307</td>\n",
              "      <td>13</td>\n",
              "    </tr>\n",
              "    <tr>\n",
              "      <th>3141702</th>\n",
              "      <td>21716339</td>\n",
              "      <td>2019-12-31 03:16:21</td>\n",
              "      <td>238</td>\n",
              "      <td>2</td>\n",
              "    </tr>\n",
              "    <tr>\n",
              "      <th>3141703</th>\n",
              "      <td>21716342</td>\n",
              "      <td>2019-12-31 03:22:43</td>\n",
              "      <td>210</td>\n",
              "      <td>10</td>\n",
              "    </tr>\n",
              "    <tr>\n",
              "      <th>3141704</th>\n",
              "      <td>21716346</td>\n",
              "      <td>2019-12-31 03:28:54</td>\n",
              "      <td>306</td>\n",
              "      <td>14</td>\n",
              "    </tr>\n",
              "    <tr>\n",
              "      <th>3141705</th>\n",
              "      <td>21716350</td>\n",
              "      <td>2019-12-31 03:50:34</td>\n",
              "      <td>238</td>\n",
              "      <td>20</td>\n",
              "    </tr>\n",
              "  </tbody>\n",
              "</table>\n",
              "<p>259527 rows × 4 columns</p>\n",
              "</div>"
            ],
            "text/plain": [
              "          LEAS_NO            LEAS_DATE  LEAS_STATION  LEAS_DEF_NO\n",
              "0        15945541  2017-01-01 00:00:41           213           18\n",
              "1        15945542  2017-01-01 00:01:03           231            4\n",
              "2        15945543  2017-01-01 00:01:50           119           14\n",
              "3        15945544  2017-01-01 00:02:09           121           17\n",
              "4        15945545  2017-01-01 00:03:32           320           29\n",
              "...           ...                  ...           ...          ...\n",
              "3141701  21716337  2019-12-31 03:12:34           307           13\n",
              "3141702  21716339  2019-12-31 03:16:21           238            2\n",
              "3141703  21716342  2019-12-31 03:22:43           210           10\n",
              "3141704  21716346  2019-12-31 03:28:54           306           14\n",
              "3141705  21716350  2019-12-31 03:50:34           238           20\n",
              "\n",
              "[259527 rows x 4 columns]"
            ]
          },
          "metadata": {
            "tags": []
          },
          "execution_count": 81
        }
      ]
    },
    {
      "cell_type": "code",
      "metadata": {
        "id": "B3hMVXbjI3HA",
        "colab_type": "code",
        "colab": {},
        "outputId": "d12e3e20-9d6d-434e-9a6c-25275c2326c5"
      },
      "source": [
        "# 결측값 확인\n",
        "bicycle_makcha_LEAS.isnull().sum()"
      ],
      "execution_count": null,
      "outputs": [
        {
          "output_type": "execute_result",
          "data": {
            "text/plain": [
              "LEAS_NO         0\n",
              "LEAS_DATE       0\n",
              "LEAS_STATION    0\n",
              "LEAS_DEF_NO     0\n",
              "dtype: int64"
            ]
          },
          "metadata": {
            "tags": []
          },
          "execution_count": 82
        }
      ]
    },
    {
      "cell_type": "code",
      "metadata": {
        "id": "mXd-amJQI3HE",
        "colab_type": "code",
        "colab": {}
      },
      "source": [
        "#LEAS_STATION의 대여 횟수\n",
        "LEAS_counts=bicycle_makcha_LEAS['LEAS_STATION'].value_counts()"
      ],
      "execution_count": null,
      "outputs": []
    },
    {
      "cell_type": "code",
      "metadata": {
        "id": "il3BaG2pI3HH",
        "colab_type": "code",
        "colab": {},
        "outputId": "cbe3810c-2c72-4f1e-d994-4a619e014ccc"
      },
      "source": [
        "# 막차 시간대 대여횟수를 하나의 데이터프레임으로 변형\n",
        "hour_0to3 = LEAS_counts.rename_axis('LEAS_STATION').reset_index(name='counts')\n",
        "hour_0to3"
      ],
      "execution_count": null,
      "outputs": [
        {
          "output_type": "execute_result",
          "data": {
            "text/html": [
              "<div>\n",
              "<style scoped>\n",
              "    .dataframe tbody tr th:only-of-type {\n",
              "        vertical-align: middle;\n",
              "    }\n",
              "\n",
              "    .dataframe tbody tr th {\n",
              "        vertical-align: top;\n",
              "    }\n",
              "\n",
              "    .dataframe thead th {\n",
              "        text-align: right;\n",
              "    }\n",
              "</style>\n",
              "<table border=\"1\" class=\"dataframe\">\n",
              "  <thead>\n",
              "    <tr style=\"text-align: right;\">\n",
              "      <th></th>\n",
              "      <th>LEAS_STATION</th>\n",
              "      <th>counts</th>\n",
              "    </tr>\n",
              "  </thead>\n",
              "  <tbody>\n",
              "    <tr>\n",
              "      <th>0</th>\n",
              "      <td>210</td>\n",
              "      <td>15446</td>\n",
              "    </tr>\n",
              "    <tr>\n",
              "      <th>1</th>\n",
              "      <td>260</td>\n",
              "      <td>6489</td>\n",
              "    </tr>\n",
              "    <tr>\n",
              "      <th>2</th>\n",
              "      <td>259</td>\n",
              "      <td>5992</td>\n",
              "    </tr>\n",
              "    <tr>\n",
              "      <th>3</th>\n",
              "      <td>306</td>\n",
              "      <td>5298</td>\n",
              "    </tr>\n",
              "    <tr>\n",
              "      <th>4</th>\n",
              "      <td>342</td>\n",
              "      <td>4951</td>\n",
              "    </tr>\n",
              "    <tr>\n",
              "      <th>...</th>\n",
              "      <td>...</td>\n",
              "      <td>...</td>\n",
              "    </tr>\n",
              "    <tr>\n",
              "      <th>151</th>\n",
              "      <td>351</td>\n",
              "      <td>37</td>\n",
              "    </tr>\n",
              "    <tr>\n",
              "      <th>152</th>\n",
              "      <td>256</td>\n",
              "      <td>37</td>\n",
              "    </tr>\n",
              "    <tr>\n",
              "      <th>153</th>\n",
              "      <td>992</td>\n",
              "      <td>33</td>\n",
              "    </tr>\n",
              "    <tr>\n",
              "      <th>154</th>\n",
              "      <td>263</td>\n",
              "      <td>16</td>\n",
              "    </tr>\n",
              "    <tr>\n",
              "      <th>155</th>\n",
              "      <td>998</td>\n",
              "      <td>2</td>\n",
              "    </tr>\n",
              "  </tbody>\n",
              "</table>\n",
              "<p>156 rows × 2 columns</p>\n",
              "</div>"
            ],
            "text/plain": [
              "     LEAS_STATION  counts\n",
              "0             210   15446\n",
              "1             260    6489\n",
              "2             259    5992\n",
              "3             306    5298\n",
              "4             342    4951\n",
              "..            ...     ...\n",
              "151           351      37\n",
              "152           256      37\n",
              "153           992      33\n",
              "154           263      16\n",
              "155           998       2\n",
              "\n",
              "[156 rows x 2 columns]"
            ]
          },
          "metadata": {
            "tags": []
          },
          "execution_count": 84
        }
      ]
    },
    {
      "cell_type": "code",
      "metadata": {
        "id": "dqKl26rCI3HK",
        "colab_type": "code",
        "colab": {},
        "outputId": "fdc121d3-b2b6-400e-dc6d-cda3d70f121b"
      },
      "source": [
        "hour_0to3['위도']=0\n",
        "hour_0to3['경도']=0\n",
        "\n",
        "for i in range(len(hour_0to3['LEAS_STATION'])):\n",
        "    for j in range(len(bicycle_station['Station_ID'])):\n",
        "        if hour_0to3['LEAS_STATION'].iloc[i]==bicycle_station['Station_ID'].iloc[j]:\n",
        "            hour_0to3['위도'].iloc[i]=bicycle_station['위도'].iloc[j]\n",
        "            hour_0to3['경도'].iloc[i]=bicycle_station['경도'].iloc[j]"
      ],
      "execution_count": null,
      "outputs": [
        {
          "output_type": "stream",
          "text": [
            "/opt/app-root/lib/python3.6/site-packages/pandas/core/indexing.py:670: SettingWithCopyWarning: \n",
            "A value is trying to be set on a copy of a slice from a DataFrame\n",
            "\n",
            "See the caveats in the documentation: https://pandas.pydata.org/pandas-docs/stable/user_guide/indexing.html#returning-a-view-versus-a-copy\n",
            "  iloc._setitem_with_indexer(indexer, value)\n"
          ],
          "name": "stderr"
        }
      ]
    },
    {
      "cell_type": "code",
      "metadata": {
        "id": "Jtiw3CSCI3HR",
        "colab_type": "code",
        "colab": {},
        "outputId": "d678c708-9aa3-460e-ca11-471473c257b4"
      },
      "source": [
        "hour_0to3.head()"
      ],
      "execution_count": null,
      "outputs": [
        {
          "output_type": "execute_result",
          "data": {
            "text/html": [
              "<div>\n",
              "<style scoped>\n",
              "    .dataframe tbody tr th:only-of-type {\n",
              "        vertical-align: middle;\n",
              "    }\n",
              "\n",
              "    .dataframe tbody tr th {\n",
              "        vertical-align: top;\n",
              "    }\n",
              "\n",
              "    .dataframe thead th {\n",
              "        text-align: right;\n",
              "    }\n",
              "</style>\n",
              "<table border=\"1\" class=\"dataframe\">\n",
              "  <thead>\n",
              "    <tr style=\"text-align: right;\">\n",
              "      <th></th>\n",
              "      <th>LEAS_STATION</th>\n",
              "      <th>counts</th>\n",
              "      <th>위도</th>\n",
              "      <th>경도</th>\n",
              "    </tr>\n",
              "  </thead>\n",
              "  <tbody>\n",
              "    <tr>\n",
              "      <th>0</th>\n",
              "      <td>210</td>\n",
              "      <td>15446</td>\n",
              "      <td>37.663673</td>\n",
              "      <td>126.767099</td>\n",
              "    </tr>\n",
              "    <tr>\n",
              "      <th>1</th>\n",
              "      <td>260</td>\n",
              "      <td>6489</td>\n",
              "      <td>37.662030</td>\n",
              "      <td>126.768952</td>\n",
              "    </tr>\n",
              "    <tr>\n",
              "      <th>2</th>\n",
              "      <td>259</td>\n",
              "      <td>5992</td>\n",
              "      <td>37.656722</td>\n",
              "      <td>126.771620</td>\n",
              "    </tr>\n",
              "    <tr>\n",
              "      <th>3</th>\n",
              "      <td>306</td>\n",
              "      <td>5298</td>\n",
              "      <td>37.675838</td>\n",
              "      <td>126.747974</td>\n",
              "    </tr>\n",
              "    <tr>\n",
              "      <th>4</th>\n",
              "      <td>342</td>\n",
              "      <td>4951</td>\n",
              "      <td>37.677995</td>\n",
              "      <td>126.766402</td>\n",
              "    </tr>\n",
              "  </tbody>\n",
              "</table>\n",
              "</div>"
            ],
            "text/plain": [
              "   LEAS_STATION  counts         위도          경도\n",
              "0           210   15446  37.663673  126.767099\n",
              "1           260    6489  37.662030  126.768952\n",
              "2           259    5992  37.656722  126.771620\n",
              "3           306    5298  37.675838  126.747974\n",
              "4           342    4951  37.677995  126.766402"
            ]
          },
          "metadata": {
            "tags": []
          },
          "execution_count": 86
        }
      ]
    },
    {
      "cell_type": "markdown",
      "metadata": {
        "id": "8D-r1IBkI3HX",
        "colab_type": "text"
      },
      "source": [
        "## 3)사용빈도에 따른 자전거 스테이션별 위치"
      ]
    },
    {
      "cell_type": "code",
      "metadata": {
        "id": "LCnX0JlII3Hb",
        "colab_type": "code",
        "colab": {}
      },
      "source": [
        "station_info=pd.read_csv(input_path.joinpath('02.자전거스테이션.csv'))"
      ],
      "execution_count": null,
      "outputs": []
    },
    {
      "cell_type": "code",
      "metadata": {
        "id": "xzvlhHgRI3Hg",
        "colab_type": "code",
        "colab": {}
      },
      "source": [
        "#bicycle_now에서 대여/반납 정류소만 추출\n",
        "bicycle=bicycle_now[[\"LEAS_STATION\", \"RTN_STATION\"]]"
      ],
      "execution_count": null,
      "outputs": []
    },
    {
      "cell_type": "code",
      "metadata": {
        "id": "072dbQQuI3Hj",
        "colab_type": "code",
        "colab": {}
      },
      "source": [
        "# 대여와 반납을 따로 나누어 추출함\n",
        "bicycle_leas = pd.DataFrame(bicycle_now[\"LEAS_STATION\"])    # 대여 정류소만 뽑음\n",
        "bicycle_rtn = pd.DataFrame(bicycle_now[\"RTN_STATION\"])       # 반납 정류소만 뽑음\n",
        "\n",
        "bicycle_leas['X'] = 0\n",
        "bicycle_leas['Y'] = 0\n",
        "bicycle_leas['count'] = 1"
      ],
      "execution_count": null,
      "outputs": []
    },
    {
      "cell_type": "code",
      "metadata": {
        "id": "Tb08pMsxI3Hr",
        "colab_type": "code",
        "colab": {},
        "outputId": "4f4fda59-31e9-47ec-a7a0-934f091052a9"
      },
      "source": [
        "# 대여한 정류소들 위치 채우기\n",
        "bicycle_leas = bicycle_leas.groupby(by = ['LEAS_STATION']).sum()\n",
        "\n",
        "bicycle_leas.reset_index()\n",
        "\n",
        "bicycle_leas = bicycle_leas.reset_index().rename(columns={\"index\": \"LEAS_STATION\"})\n",
        "\n",
        "for i in range(len(bicycle_leas['LEAS_STATION'])):\n",
        "    for j in range(len(station_info['Station_ID'])):\n",
        "        if bicycle_leas['LEAS_STATION'].iloc[i] == station_info['Station_ID'].iloc[j] :\n",
        "            bicycle_leas['X'].iloc[i] = station_info['위도'].iloc[j]\n",
        "            bicycle_leas['Y'].iloc[i] = station_info['경도'].iloc[j]\n",
        "            break"
      ],
      "execution_count": null,
      "outputs": [
        {
          "output_type": "stream",
          "text": [
            "/opt/app-root/lib/python3.6/site-packages/pandas/core/indexing.py:670: SettingWithCopyWarning: \n",
            "A value is trying to be set on a copy of a slice from a DataFrame\n",
            "\n",
            "See the caveats in the documentation: https://pandas.pydata.org/pandas-docs/stable/user_guide/indexing.html#returning-a-view-versus-a-copy\n",
            "  iloc._setitem_with_indexer(indexer, value)\n"
          ],
          "name": "stderr"
        }
      ]
    },
    {
      "cell_type": "code",
      "metadata": {
        "id": "A1QZDw_hI3Hv",
        "colab_type": "code",
        "colab": {},
        "outputId": "1bdf1d07-eadd-4fdc-eb0f-f86cd36d4f7e"
      },
      "source": [
        "bicycle_leas = bicycle_leas.sort_values(by ='count', ascending=False)\n",
        "\n",
        "bicycle_leas = bicycle_leas.reset_index()\n",
        "\n",
        "del bicycle_leas['index']\n",
        "bicycle_leas"
      ],
      "execution_count": null,
      "outputs": [
        {
          "output_type": "execute_result",
          "data": {
            "text/html": [
              "<div>\n",
              "<style scoped>\n",
              "    .dataframe tbody tr th:only-of-type {\n",
              "        vertical-align: middle;\n",
              "    }\n",
              "\n",
              "    .dataframe tbody tr th {\n",
              "        vertical-align: top;\n",
              "    }\n",
              "\n",
              "    .dataframe thead th {\n",
              "        text-align: right;\n",
              "    }\n",
              "</style>\n",
              "<table border=\"1\" class=\"dataframe\">\n",
              "  <thead>\n",
              "    <tr style=\"text-align: right;\">\n",
              "      <th></th>\n",
              "      <th>LEAS_STATION</th>\n",
              "      <th>X</th>\n",
              "      <th>Y</th>\n",
              "      <th>count</th>\n",
              "    </tr>\n",
              "  </thead>\n",
              "  <tbody>\n",
              "    <tr>\n",
              "      <th>0</th>\n",
              "      <td>253</td>\n",
              "      <td>37.663241</td>\n",
              "      <td>126.762162</td>\n",
              "      <td>83134</td>\n",
              "    </tr>\n",
              "    <tr>\n",
              "      <th>1</th>\n",
              "      <td>254</td>\n",
              "      <td>37.655647</td>\n",
              "      <td>126.768352</td>\n",
              "      <td>78594</td>\n",
              "    </tr>\n",
              "    <tr>\n",
              "      <th>2</th>\n",
              "      <td>309</td>\n",
              "      <td>37.671278</td>\n",
              "      <td>126.761898</td>\n",
              "      <td>78272</td>\n",
              "    </tr>\n",
              "    <tr>\n",
              "      <th>3</th>\n",
              "      <td>259</td>\n",
              "      <td>37.656722</td>\n",
              "      <td>126.771620</td>\n",
              "      <td>70746</td>\n",
              "    </tr>\n",
              "    <tr>\n",
              "      <th>4</th>\n",
              "      <td>210</td>\n",
              "      <td>37.663673</td>\n",
              "      <td>126.767099</td>\n",
              "      <td>69549</td>\n",
              "    </tr>\n",
              "    <tr>\n",
              "      <th>...</th>\n",
              "      <td>...</td>\n",
              "      <td>...</td>\n",
              "      <td>...</td>\n",
              "      <td>...</td>\n",
              "    </tr>\n",
              "    <tr>\n",
              "      <th>151</th>\n",
              "      <td>265</td>\n",
              "      <td>37.661296</td>\n",
              "      <td>126.750847</td>\n",
              "      <td>767</td>\n",
              "    </tr>\n",
              "    <tr>\n",
              "      <th>152</th>\n",
              "      <td>264</td>\n",
              "      <td>37.664403</td>\n",
              "      <td>126.748019</td>\n",
              "      <td>688</td>\n",
              "    </tr>\n",
              "    <tr>\n",
              "      <th>153</th>\n",
              "      <td>351</td>\n",
              "      <td>37.702259</td>\n",
              "      <td>126.767231</td>\n",
              "      <td>473</td>\n",
              "    </tr>\n",
              "    <tr>\n",
              "      <th>154</th>\n",
              "      <td>263</td>\n",
              "      <td>37.661579</td>\n",
              "      <td>126.747736</td>\n",
              "      <td>253</td>\n",
              "    </tr>\n",
              "    <tr>\n",
              "      <th>155</th>\n",
              "      <td>998</td>\n",
              "      <td>0.000000</td>\n",
              "      <td>0.000000</td>\n",
              "      <td>25</td>\n",
              "    </tr>\n",
              "  </tbody>\n",
              "</table>\n",
              "<p>156 rows × 4 columns</p>\n",
              "</div>"
            ],
            "text/plain": [
              "     LEAS_STATION          X           Y  count\n",
              "0             253  37.663241  126.762162  83134\n",
              "1             254  37.655647  126.768352  78594\n",
              "2             309  37.671278  126.761898  78272\n",
              "3             259  37.656722  126.771620  70746\n",
              "4             210  37.663673  126.767099  69549\n",
              "..            ...        ...         ...    ...\n",
              "151           265  37.661296  126.750847    767\n",
              "152           264  37.664403  126.748019    688\n",
              "153           351  37.702259  126.767231    473\n",
              "154           263  37.661579  126.747736    253\n",
              "155           998   0.000000    0.000000     25\n",
              "\n",
              "[156 rows x 4 columns]"
            ]
          },
          "metadata": {
            "tags": []
          },
          "execution_count": 41
        }
      ]
    },
    {
      "cell_type": "code",
      "metadata": {
        "id": "Rvf9XKAnI3H0",
        "colab_type": "code",
        "colab": {}
      },
      "source": [
        "# 완료된 파일을 csv로 저장하기\n",
        "# 모든 csv파일은 QGIS로 시각화할 것\n",
        "bicycle_leas.to_csv('bicycle_leas.csv',mode='w')\n",
        "\n",
        "bicycle_rtn.to_csv('bicycle_rtn.csv',mode='w')"
      ],
      "execution_count": null,
      "outputs": []
    },
    {
      "cell_type": "code",
      "metadata": {
        "id": "d6Bttf-BI3H3",
        "colab_type": "code",
        "colab": {}
      },
      "source": [
        "# groupby와 count로 스테이션별로 총 대여가 얼마나 이루어졌는지 보기\n",
        "a_leas = bicycle_leas.groupby(by='LEAS_STATION').count()\n",
        "b_leas = a_leas.sort_values(by='X',ascending=False)"
      ],
      "execution_count": null,
      "outputs": []
    },
    {
      "cell_type": "code",
      "metadata": {
        "id": "5wgP5VxeI3H7",
        "colab_type": "code",
        "colab": {},
        "outputId": "68fd60c0-84cd-47d2-e174-1f6a6485dfff"
      },
      "source": [
        "# 집계된 자료 살펴보기 = 대여수가 높은 10개 스테이션\n",
        "b_leas.head(10)"
      ],
      "execution_count": null,
      "outputs": [
        {
          "output_type": "execute_result",
          "data": {
            "text/html": [
              "<div>\n",
              "<style scoped>\n",
              "    .dataframe tbody tr th:only-of-type {\n",
              "        vertical-align: middle;\n",
              "    }\n",
              "\n",
              "    .dataframe tbody tr th {\n",
              "        vertical-align: top;\n",
              "    }\n",
              "\n",
              "    .dataframe thead th {\n",
              "        text-align: right;\n",
              "    }\n",
              "</style>\n",
              "<table border=\"1\" class=\"dataframe\">\n",
              "  <thead>\n",
              "    <tr style=\"text-align: right;\">\n",
              "      <th></th>\n",
              "      <th>X</th>\n",
              "      <th>Y</th>\n",
              "      <th>count</th>\n",
              "    </tr>\n",
              "    <tr>\n",
              "      <th>LEAS_STATION</th>\n",
              "      <th></th>\n",
              "      <th></th>\n",
              "      <th></th>\n",
              "    </tr>\n",
              "  </thead>\n",
              "  <tbody>\n",
              "    <tr>\n",
              "      <th>101</th>\n",
              "      <td>1</td>\n",
              "      <td>1</td>\n",
              "      <td>1</td>\n",
              "    </tr>\n",
              "    <tr>\n",
              "      <th>263</th>\n",
              "      <td>1</td>\n",
              "      <td>1</td>\n",
              "      <td>1</td>\n",
              "    </tr>\n",
              "    <tr>\n",
              "      <th>256</th>\n",
              "      <td>1</td>\n",
              "      <td>1</td>\n",
              "      <td>1</td>\n",
              "    </tr>\n",
              "    <tr>\n",
              "      <th>257</th>\n",
              "      <td>1</td>\n",
              "      <td>1</td>\n",
              "      <td>1</td>\n",
              "    </tr>\n",
              "    <tr>\n",
              "      <th>258</th>\n",
              "      <td>1</td>\n",
              "      <td>1</td>\n",
              "      <td>1</td>\n",
              "    </tr>\n",
              "    <tr>\n",
              "      <th>259</th>\n",
              "      <td>1</td>\n",
              "      <td>1</td>\n",
              "      <td>1</td>\n",
              "    </tr>\n",
              "    <tr>\n",
              "      <th>260</th>\n",
              "      <td>1</td>\n",
              "      <td>1</td>\n",
              "      <td>1</td>\n",
              "    </tr>\n",
              "    <tr>\n",
              "      <th>261</th>\n",
              "      <td>1</td>\n",
              "      <td>1</td>\n",
              "      <td>1</td>\n",
              "    </tr>\n",
              "    <tr>\n",
              "      <th>262</th>\n",
              "      <td>1</td>\n",
              "      <td>1</td>\n",
              "      <td>1</td>\n",
              "    </tr>\n",
              "    <tr>\n",
              "      <th>264</th>\n",
              "      <td>1</td>\n",
              "      <td>1</td>\n",
              "      <td>1</td>\n",
              "    </tr>\n",
              "  </tbody>\n",
              "</table>\n",
              "</div>"
            ],
            "text/plain": [
              "              X  Y  count\n",
              "LEAS_STATION             \n",
              "101           1  1      1\n",
              "263           1  1      1\n",
              "256           1  1      1\n",
              "257           1  1      1\n",
              "258           1  1      1\n",
              "259           1  1      1\n",
              "260           1  1      1\n",
              "261           1  1      1\n",
              "262           1  1      1\n",
              "264           1  1      1"
            ]
          },
          "metadata": {
            "tags": []
          },
          "execution_count": 46
        }
      ]
    },
    {
      "cell_type": "code",
      "metadata": {
        "id": "9UymaFRZI3IA",
        "colab_type": "code",
        "colab": {},
        "outputId": "7331d71e-7922-4054-9fcb-88bf696b4234"
      },
      "source": [
        "# 집계된 자료 살펴보기 - 대여수가 낮은 10개 스테이션\n",
        "b_leas.tail(10)"
      ],
      "execution_count": null,
      "outputs": [
        {
          "output_type": "execute_result",
          "data": {
            "text/html": [
              "<div>\n",
              "<style scoped>\n",
              "    .dataframe tbody tr th:only-of-type {\n",
              "        vertical-align: middle;\n",
              "    }\n",
              "\n",
              "    .dataframe tbody tr th {\n",
              "        vertical-align: top;\n",
              "    }\n",
              "\n",
              "    .dataframe thead th {\n",
              "        text-align: right;\n",
              "    }\n",
              "</style>\n",
              "<table border=\"1\" class=\"dataframe\">\n",
              "  <thead>\n",
              "    <tr style=\"text-align: right;\">\n",
              "      <th></th>\n",
              "      <th>X</th>\n",
              "      <th>Y</th>\n",
              "      <th>count</th>\n",
              "    </tr>\n",
              "    <tr>\n",
              "      <th>LEAS_STATION</th>\n",
              "      <th></th>\n",
              "      <th></th>\n",
              "      <th></th>\n",
              "    </tr>\n",
              "  </thead>\n",
              "  <tbody>\n",
              "    <tr>\n",
              "      <th>173</th>\n",
              "      <td>1</td>\n",
              "      <td>1</td>\n",
              "      <td>1</td>\n",
              "    </tr>\n",
              "    <tr>\n",
              "      <th>176</th>\n",
              "      <td>1</td>\n",
              "      <td>1</td>\n",
              "      <td>1</td>\n",
              "    </tr>\n",
              "    <tr>\n",
              "      <th>177</th>\n",
              "      <td>1</td>\n",
              "      <td>1</td>\n",
              "      <td>1</td>\n",
              "    </tr>\n",
              "    <tr>\n",
              "      <th>178</th>\n",
              "      <td>1</td>\n",
              "      <td>1</td>\n",
              "      <td>1</td>\n",
              "    </tr>\n",
              "    <tr>\n",
              "      <th>201</th>\n",
              "      <td>1</td>\n",
              "      <td>1</td>\n",
              "      <td>1</td>\n",
              "    </tr>\n",
              "    <tr>\n",
              "      <th>202</th>\n",
              "      <td>1</td>\n",
              "      <td>1</td>\n",
              "      <td>1</td>\n",
              "    </tr>\n",
              "    <tr>\n",
              "      <th>203</th>\n",
              "      <td>1</td>\n",
              "      <td>1</td>\n",
              "      <td>1</td>\n",
              "    </tr>\n",
              "    <tr>\n",
              "      <th>204</th>\n",
              "      <td>1</td>\n",
              "      <td>1</td>\n",
              "      <td>1</td>\n",
              "    </tr>\n",
              "    <tr>\n",
              "      <th>205</th>\n",
              "      <td>1</td>\n",
              "      <td>1</td>\n",
              "      <td>1</td>\n",
              "    </tr>\n",
              "    <tr>\n",
              "      <th>998</th>\n",
              "      <td>1</td>\n",
              "      <td>1</td>\n",
              "      <td>1</td>\n",
              "    </tr>\n",
              "  </tbody>\n",
              "</table>\n",
              "</div>"
            ],
            "text/plain": [
              "              X  Y  count\n",
              "LEAS_STATION             \n",
              "173           1  1      1\n",
              "176           1  1      1\n",
              "177           1  1      1\n",
              "178           1  1      1\n",
              "201           1  1      1\n",
              "202           1  1      1\n",
              "203           1  1      1\n",
              "204           1  1      1\n",
              "205           1  1      1\n",
              "998           1  1      1"
            ]
          },
          "metadata": {
            "tags": []
          },
          "execution_count": 47
        }
      ]
    },
    {
      "cell_type": "code",
      "metadata": {
        "id": "ScRkHGyRI3IE",
        "colab_type": "code",
        "colab": {}
      },
      "source": [
        "# 불필요한 칼럼 삭제, 이름 재설정\n",
        "del b_leas['X']\n",
        "b_leas = b_leas.rename(columns = {\"Y\":\"정류장 이용 건수\"})"
      ],
      "execution_count": null,
      "outputs": []
    },
    {
      "cell_type": "code",
      "metadata": {
        "id": "AeWJ43-pI3IH",
        "colab_type": "code",
        "colab": {},
        "outputId": "db11ca0f-435c-4e2d-b5e2-bf8992488afd"
      },
      "source": [
        "b_leas"
      ],
      "execution_count": null,
      "outputs": [
        {
          "output_type": "execute_result",
          "data": {
            "text/html": [
              "<div>\n",
              "<style scoped>\n",
              "    .dataframe tbody tr th:only-of-type {\n",
              "        vertical-align: middle;\n",
              "    }\n",
              "\n",
              "    .dataframe tbody tr th {\n",
              "        vertical-align: top;\n",
              "    }\n",
              "\n",
              "    .dataframe thead th {\n",
              "        text-align: right;\n",
              "    }\n",
              "</style>\n",
              "<table border=\"1\" class=\"dataframe\">\n",
              "  <thead>\n",
              "    <tr style=\"text-align: right;\">\n",
              "      <th></th>\n",
              "      <th>정류장 이용 건수</th>\n",
              "      <th>count</th>\n",
              "    </tr>\n",
              "    <tr>\n",
              "      <th>LEAS_STATION</th>\n",
              "      <th></th>\n",
              "      <th></th>\n",
              "    </tr>\n",
              "  </thead>\n",
              "  <tbody>\n",
              "    <tr>\n",
              "      <th>101</th>\n",
              "      <td>1</td>\n",
              "      <td>1</td>\n",
              "    </tr>\n",
              "    <tr>\n",
              "      <th>263</th>\n",
              "      <td>1</td>\n",
              "      <td>1</td>\n",
              "    </tr>\n",
              "    <tr>\n",
              "      <th>256</th>\n",
              "      <td>1</td>\n",
              "      <td>1</td>\n",
              "    </tr>\n",
              "    <tr>\n",
              "      <th>257</th>\n",
              "      <td>1</td>\n",
              "      <td>1</td>\n",
              "    </tr>\n",
              "    <tr>\n",
              "      <th>258</th>\n",
              "      <td>1</td>\n",
              "      <td>1</td>\n",
              "    </tr>\n",
              "    <tr>\n",
              "      <th>...</th>\n",
              "      <td>...</td>\n",
              "      <td>...</td>\n",
              "    </tr>\n",
              "    <tr>\n",
              "      <th>202</th>\n",
              "      <td>1</td>\n",
              "      <td>1</td>\n",
              "    </tr>\n",
              "    <tr>\n",
              "      <th>203</th>\n",
              "      <td>1</td>\n",
              "      <td>1</td>\n",
              "    </tr>\n",
              "    <tr>\n",
              "      <th>204</th>\n",
              "      <td>1</td>\n",
              "      <td>1</td>\n",
              "    </tr>\n",
              "    <tr>\n",
              "      <th>205</th>\n",
              "      <td>1</td>\n",
              "      <td>1</td>\n",
              "    </tr>\n",
              "    <tr>\n",
              "      <th>998</th>\n",
              "      <td>1</td>\n",
              "      <td>1</td>\n",
              "    </tr>\n",
              "  </tbody>\n",
              "</table>\n",
              "<p>156 rows × 2 columns</p>\n",
              "</div>"
            ],
            "text/plain": [
              "              정류장 이용 건수  count\n",
              "LEAS_STATION                  \n",
              "101                   1      1\n",
              "263                   1      1\n",
              "256                   1      1\n",
              "257                   1      1\n",
              "258                   1      1\n",
              "...                 ...    ...\n",
              "202                   1      1\n",
              "203                   1      1\n",
              "204                   1      1\n",
              "205                   1      1\n",
              "998                   1      1\n",
              "\n",
              "[156 rows x 2 columns]"
            ]
          },
          "metadata": {
            "tags": []
          },
          "execution_count": 49
        }
      ]
    },
    {
      "cell_type": "markdown",
      "metadata": {
        "id": "mbcwARCiI3IM",
        "colab_type": "text"
      },
      "source": [
        "## 대여가 많은/적은 TOP10, TOP20 자전거 스테이션 정보 추출"
      ]
    },
    {
      "cell_type": "code",
      "metadata": {
        "id": "cezEeDfSI3IM",
        "colab_type": "code",
        "colab": {}
      },
      "source": [
        "# 대여 많은 순 TOP10 뽑아 csv파일로 저장하기\n",
        "s_1= b_leas.head(10)\n",
        "s_1.to_csv('top_leas_1.csv',mode='w')"
      ],
      "execution_count": null,
      "outputs": []
    },
    {
      "cell_type": "code",
      "metadata": {
        "id": "8ogYUCrcI3IT",
        "colab_type": "code",
        "colab": {}
      },
      "source": [
        "# 대여 많은 순 TOP20 뽑아 csv파일로 저장하기\n",
        "s_2 = b_leas.head(20)\n",
        "s_2.to_csv('top_leas_2.csv',mode='w')"
      ],
      "execution_count": null,
      "outputs": []
    },
    {
      "cell_type": "code",
      "metadata": {
        "id": "YAkr62AII3IY",
        "colab_type": "code",
        "colab": {}
      },
      "source": [
        "# 대여 적은 순 TOP10 뽑아 csv파일로 저장하기\n",
        "s_tail_1= b_leas.tail(10)\n",
        "s_tail_1.to_csv('low_leas_1.csv',mode='w')\n",
        "\n",
        "# 대여 적은 순 TOP20 뽑아 csv파일로 저장하기\n",
        "s_tail_2 = b_leas.tail(20)\n",
        "s_tail_2.to_csv('low_leas_2.csv',mode='w')"
      ],
      "execution_count": null,
      "outputs": []
    },
    {
      "cell_type": "code",
      "metadata": {
        "id": "MKY9K0ZZI3Ib",
        "colab_type": "code",
        "colab": {}
      },
      "source": [
        "# 반납\n",
        "bicycle_rtn['X'] = 0\n",
        "bicycle_rtn['Y'] = 0\n",
        "bicycle_rtn['count'] = 1"
      ],
      "execution_count": null,
      "outputs": []
    },
    {
      "cell_type": "code",
      "metadata": {
        "id": "gjPA07n2I3Id",
        "colab_type": "code",
        "colab": {},
        "outputId": "99ce323b-c4b4-4fd4-f7e4-fba7a2721ce0"
      },
      "source": [
        "bicycle_rtn = bicycle_rtn.groupby(by = ['RTN_STATION']).sum()\n",
        "\n",
        "bicycle_rtn.reset_index()\n",
        "\n",
        "bicycle_rtn = bicycle_rtn.reset_index().rename(columns={\"index\": \"RTN_STATION\"})\n",
        "\n",
        "for i in range(len(bicycle_rtn['RTN_STATION'])):\n",
        "    for j in range(len(station_info['Station_ID'])):\n",
        "        if bicycle_rtn['RTN_STATION'].iloc[i] == station_info['Station_ID'].iloc[j] :\n",
        "            bicycle_rtn['X'].iloc[i] = station_info['위도'].iloc[j]\n",
        "            bicycle_rtn['Y'].iloc[i] = station_info['경도'].iloc[j]\n",
        "            break\n",
        "bicycle_rtn = bicycle_rtn.sort_values(by ='count', ascending=False)\n",
        "\n",
        "bicycle_rtn = bicycle_rtn.reset_index()\n",
        "\n",
        "del bicycle_rtn['index']\n",
        "bicycle_rtn"
      ],
      "execution_count": null,
      "outputs": [
        {
          "output_type": "stream",
          "text": [
            "/opt/app-root/lib/python3.6/site-packages/pandas/core/indexing.py:670: SettingWithCopyWarning: \n",
            "A value is trying to be set on a copy of a slice from a DataFrame\n",
            "\n",
            "See the caveats in the documentation: https://pandas.pydata.org/pandas-docs/stable/user_guide/indexing.html#returning-a-view-versus-a-copy\n",
            "  iloc._setitem_with_indexer(indexer, value)\n"
          ],
          "name": "stderr"
        },
        {
          "output_type": "execute_result",
          "data": {
            "text/html": [
              "<div>\n",
              "<style scoped>\n",
              "    .dataframe tbody tr th:only-of-type {\n",
              "        vertical-align: middle;\n",
              "    }\n",
              "\n",
              "    .dataframe tbody tr th {\n",
              "        vertical-align: top;\n",
              "    }\n",
              "\n",
              "    .dataframe thead th {\n",
              "        text-align: right;\n",
              "    }\n",
              "</style>\n",
              "<table border=\"1\" class=\"dataframe\">\n",
              "  <thead>\n",
              "    <tr style=\"text-align: right;\">\n",
              "      <th></th>\n",
              "      <th>RTN_STATION</th>\n",
              "      <th>X</th>\n",
              "      <th>Y</th>\n",
              "      <th>count</th>\n",
              "    </tr>\n",
              "  </thead>\n",
              "  <tbody>\n",
              "    <tr>\n",
              "      <th>0</th>\n",
              "      <td>0</td>\n",
              "      <td>0.000000</td>\n",
              "      <td>0.000000</td>\n",
              "      <td>398234</td>\n",
              "    </tr>\n",
              "    <tr>\n",
              "      <th>1</th>\n",
              "      <td>253</td>\n",
              "      <td>37.663241</td>\n",
              "      <td>126.762162</td>\n",
              "      <td>83718</td>\n",
              "    </tr>\n",
              "    <tr>\n",
              "      <th>2</th>\n",
              "      <td>254</td>\n",
              "      <td>37.655647</td>\n",
              "      <td>126.768352</td>\n",
              "      <td>81279</td>\n",
              "    </tr>\n",
              "    <tr>\n",
              "      <th>3</th>\n",
              "      <td>309</td>\n",
              "      <td>37.671278</td>\n",
              "      <td>126.761898</td>\n",
              "      <td>75719</td>\n",
              "    </tr>\n",
              "    <tr>\n",
              "      <th>4</th>\n",
              "      <td>210</td>\n",
              "      <td>37.663673</td>\n",
              "      <td>126.767099</td>\n",
              "      <td>72191</td>\n",
              "    </tr>\n",
              "    <tr>\n",
              "      <th>...</th>\n",
              "      <td>...</td>\n",
              "      <td>...</td>\n",
              "      <td>...</td>\n",
              "      <td>...</td>\n",
              "    </tr>\n",
              "    <tr>\n",
              "      <th>153</th>\n",
              "      <td>264</td>\n",
              "      <td>37.664403</td>\n",
              "      <td>126.748019</td>\n",
              "      <td>759</td>\n",
              "    </tr>\n",
              "    <tr>\n",
              "      <th>154</th>\n",
              "      <td>263</td>\n",
              "      <td>37.661579</td>\n",
              "      <td>126.747736</td>\n",
              "      <td>425</td>\n",
              "    </tr>\n",
              "    <tr>\n",
              "      <th>155</th>\n",
              "      <td>351</td>\n",
              "      <td>37.702259</td>\n",
              "      <td>126.767231</td>\n",
              "      <td>406</td>\n",
              "    </tr>\n",
              "    <tr>\n",
              "      <th>156</th>\n",
              "      <td>998</td>\n",
              "      <td>0.000000</td>\n",
              "      <td>0.000000</td>\n",
              "      <td>21</td>\n",
              "    </tr>\n",
              "    <tr>\n",
              "      <th>157</th>\n",
              "      <td>999</td>\n",
              "      <td>0.000000</td>\n",
              "      <td>0.000000</td>\n",
              "      <td>10</td>\n",
              "    </tr>\n",
              "  </tbody>\n",
              "</table>\n",
              "<p>158 rows × 4 columns</p>\n",
              "</div>"
            ],
            "text/plain": [
              "     RTN_STATION          X           Y   count\n",
              "0              0   0.000000    0.000000  398234\n",
              "1            253  37.663241  126.762162   83718\n",
              "2            254  37.655647  126.768352   81279\n",
              "3            309  37.671278  126.761898   75719\n",
              "4            210  37.663673  126.767099   72191\n",
              "..           ...        ...         ...     ...\n",
              "153          264  37.664403  126.748019     759\n",
              "154          263  37.661579  126.747736     425\n",
              "155          351  37.702259  126.767231     406\n",
              "156          998   0.000000    0.000000      21\n",
              "157          999   0.000000    0.000000      10\n",
              "\n",
              "[158 rows x 4 columns]"
            ]
          },
          "metadata": {
            "tags": []
          },
          "execution_count": 43
        }
      ]
    },
    {
      "cell_type": "code",
      "metadata": {
        "id": "qgZljrqZI3If",
        "colab_type": "code",
        "colab": {}
      },
      "source": [
        "# 반납 관련 데이터도 csv로 저장\n",
        "# QGIS로 시각화할 것\n",
        "\n",
        "bicycle_rtn.to_csv('bicycle_rtn.csv',mode='w')"
      ],
      "execution_count": null,
      "outputs": []
    },
    {
      "cell_type": "code",
      "metadata": {
        "id": "6rrER1dmI3Il",
        "colab_type": "code",
        "colab": {}
      },
      "source": [
        "#RTN으로 파일만들기 - b_leas와 같은 작업\n",
        "a_rtn = bicycle_rtn.groupby(by='RTN_STATION').count()\n",
        "\n",
        "# 많은 순으로 뽑음\n",
        "b_rtn = a_rtn.sort_values(by='X',ascending=False)\n",
        "del b_rtn['X']\n",
        "b_rtn = b_rtn.rename(columns = {\"Y\":\"정류장 이용 건수\"})"
      ],
      "execution_count": null,
      "outputs": []
    },
    {
      "cell_type": "code",
      "metadata": {
        "id": "t8l6E1V1I3Ir",
        "colab_type": "code",
        "colab": {},
        "outputId": "adde84c2-1111-4288-df5b-c47e1ae2732d"
      },
      "source": [
        "# 대여가 많은 순으로 정류장 number를 뽑은 데이터\n",
        "b_leas "
      ],
      "execution_count": null,
      "outputs": [
        {
          "output_type": "execute_result",
          "data": {
            "text/html": [
              "<div>\n",
              "<style scoped>\n",
              "    .dataframe tbody tr th:only-of-type {\n",
              "        vertical-align: middle;\n",
              "    }\n",
              "\n",
              "    .dataframe tbody tr th {\n",
              "        vertical-align: top;\n",
              "    }\n",
              "\n",
              "    .dataframe thead th {\n",
              "        text-align: right;\n",
              "    }\n",
              "</style>\n",
              "<table border=\"1\" class=\"dataframe\">\n",
              "  <thead>\n",
              "    <tr style=\"text-align: right;\">\n",
              "      <th></th>\n",
              "      <th>X</th>\n",
              "      <th>Y</th>\n",
              "      <th>count</th>\n",
              "    </tr>\n",
              "    <tr>\n",
              "      <th>LEAS_STATION</th>\n",
              "      <th></th>\n",
              "      <th></th>\n",
              "      <th></th>\n",
              "    </tr>\n",
              "  </thead>\n",
              "  <tbody>\n",
              "    <tr>\n",
              "      <th>101</th>\n",
              "      <td>1</td>\n",
              "      <td>1</td>\n",
              "      <td>1</td>\n",
              "    </tr>\n",
              "    <tr>\n",
              "      <th>263</th>\n",
              "      <td>1</td>\n",
              "      <td>1</td>\n",
              "      <td>1</td>\n",
              "    </tr>\n",
              "    <tr>\n",
              "      <th>256</th>\n",
              "      <td>1</td>\n",
              "      <td>1</td>\n",
              "      <td>1</td>\n",
              "    </tr>\n",
              "    <tr>\n",
              "      <th>257</th>\n",
              "      <td>1</td>\n",
              "      <td>1</td>\n",
              "      <td>1</td>\n",
              "    </tr>\n",
              "    <tr>\n",
              "      <th>258</th>\n",
              "      <td>1</td>\n",
              "      <td>1</td>\n",
              "      <td>1</td>\n",
              "    </tr>\n",
              "    <tr>\n",
              "      <th>...</th>\n",
              "      <td>...</td>\n",
              "      <td>...</td>\n",
              "      <td>...</td>\n",
              "    </tr>\n",
              "    <tr>\n",
              "      <th>202</th>\n",
              "      <td>1</td>\n",
              "      <td>1</td>\n",
              "      <td>1</td>\n",
              "    </tr>\n",
              "    <tr>\n",
              "      <th>203</th>\n",
              "      <td>1</td>\n",
              "      <td>1</td>\n",
              "      <td>1</td>\n",
              "    </tr>\n",
              "    <tr>\n",
              "      <th>204</th>\n",
              "      <td>1</td>\n",
              "      <td>1</td>\n",
              "      <td>1</td>\n",
              "    </tr>\n",
              "    <tr>\n",
              "      <th>205</th>\n",
              "      <td>1</td>\n",
              "      <td>1</td>\n",
              "      <td>1</td>\n",
              "    </tr>\n",
              "    <tr>\n",
              "      <th>998</th>\n",
              "      <td>1</td>\n",
              "      <td>1</td>\n",
              "      <td>1</td>\n",
              "    </tr>\n",
              "  </tbody>\n",
              "</table>\n",
              "<p>156 rows × 3 columns</p>\n",
              "</div>"
            ],
            "text/plain": [
              "              X  Y  count\n",
              "LEAS_STATION             \n",
              "101           1  1      1\n",
              "263           1  1      1\n",
              "256           1  1      1\n",
              "257           1  1      1\n",
              "258           1  1      1\n",
              "...          .. ..    ...\n",
              "202           1  1      1\n",
              "203           1  1      1\n",
              "204           1  1      1\n",
              "205           1  1      1\n",
              "998           1  1      1\n",
              "\n",
              "[156 rows x 3 columns]"
            ]
          },
          "metadata": {
            "tags": []
          },
          "execution_count": 55
        }
      ]
    },
    {
      "cell_type": "code",
      "metadata": {
        "id": "lV6xwrvtI3Ix",
        "colab_type": "code",
        "colab": {},
        "outputId": "e212b892-c35b-46fd-b2b1-91d85ce89ad3"
      },
      "source": [
        "# 반납이 많은 순으로 정류장 number를 뽑은 데이터\n",
        "b_rtn"
      ],
      "execution_count": null,
      "outputs": [
        {
          "output_type": "execute_result",
          "data": {
            "text/html": [
              "<div>\n",
              "<style scoped>\n",
              "    .dataframe tbody tr th:only-of-type {\n",
              "        vertical-align: middle;\n",
              "    }\n",
              "\n",
              "    .dataframe tbody tr th {\n",
              "        vertical-align: top;\n",
              "    }\n",
              "\n",
              "    .dataframe thead th {\n",
              "        text-align: right;\n",
              "    }\n",
              "</style>\n",
              "<table border=\"1\" class=\"dataframe\">\n",
              "  <thead>\n",
              "    <tr style=\"text-align: right;\">\n",
              "      <th></th>\n",
              "      <th>정류장 이용 건수</th>\n",
              "      <th>count</th>\n",
              "    </tr>\n",
              "    <tr>\n",
              "      <th>RTN_STATION</th>\n",
              "      <th></th>\n",
              "      <th></th>\n",
              "    </tr>\n",
              "  </thead>\n",
              "  <tbody>\n",
              "    <tr>\n",
              "      <th>0</th>\n",
              "      <td>1</td>\n",
              "      <td>1</td>\n",
              "    </tr>\n",
              "    <tr>\n",
              "      <th>263</th>\n",
              "      <td>1</td>\n",
              "      <td>1</td>\n",
              "    </tr>\n",
              "    <tr>\n",
              "      <th>256</th>\n",
              "      <td>1</td>\n",
              "      <td>1</td>\n",
              "    </tr>\n",
              "    <tr>\n",
              "      <th>257</th>\n",
              "      <td>1</td>\n",
              "      <td>1</td>\n",
              "    </tr>\n",
              "    <tr>\n",
              "      <th>258</th>\n",
              "      <td>1</td>\n",
              "      <td>1</td>\n",
              "    </tr>\n",
              "    <tr>\n",
              "      <th>...</th>\n",
              "      <td>...</td>\n",
              "      <td>...</td>\n",
              "    </tr>\n",
              "    <tr>\n",
              "      <th>202</th>\n",
              "      <td>1</td>\n",
              "      <td>1</td>\n",
              "    </tr>\n",
              "    <tr>\n",
              "      <th>203</th>\n",
              "      <td>1</td>\n",
              "      <td>1</td>\n",
              "    </tr>\n",
              "    <tr>\n",
              "      <th>204</th>\n",
              "      <td>1</td>\n",
              "      <td>1</td>\n",
              "    </tr>\n",
              "    <tr>\n",
              "      <th>205</th>\n",
              "      <td>1</td>\n",
              "      <td>1</td>\n",
              "    </tr>\n",
              "    <tr>\n",
              "      <th>999</th>\n",
              "      <td>1</td>\n",
              "      <td>1</td>\n",
              "    </tr>\n",
              "  </tbody>\n",
              "</table>\n",
              "<p>158 rows × 2 columns</p>\n",
              "</div>"
            ],
            "text/plain": [
              "             정류장 이용 건수  count\n",
              "RTN_STATION                  \n",
              "0                    1      1\n",
              "263                  1      1\n",
              "256                  1      1\n",
              "257                  1      1\n",
              "258                  1      1\n",
              "...                ...    ...\n",
              "202                  1      1\n",
              "203                  1      1\n",
              "204                  1      1\n",
              "205                  1      1\n",
              "999                  1      1\n",
              "\n",
              "[158 rows x 2 columns]"
            ]
          },
          "metadata": {
            "tags": []
          },
          "execution_count": 56
        }
      ]
    },
    {
      "cell_type": "markdown",
      "metadata": {
        "id": "94A53aD_I3I2",
        "colab_type": "text"
      },
      "source": [
        "### 반납이 많은/적은 TOP10, TOP20 자전거 스테이션 정보 추출"
      ]
    },
    {
      "cell_type": "code",
      "metadata": {
        "id": "FebLbXo7I3I2",
        "colab_type": "code",
        "colab": {}
      },
      "source": [
        "# 반납 많은 순 TOP10 뽑아 csv파일로 저장하기\n",
        "a_1 = b_rtn.head(10)\n",
        "a_1.to_csv('top_rtn_1.csv',mode='w')"
      ],
      "execution_count": null,
      "outputs": []
    },
    {
      "cell_type": "code",
      "metadata": {
        "id": "fEd9FpObI3I6",
        "colab_type": "code",
        "colab": {}
      },
      "source": [
        "# 반납 많은 순 TOP20 뽑아 csv파일로 저장하기\n",
        "a_2 = b_rtn.head(20)\n",
        "a_2.to_csv('top_rtn_2.csv',mode='w')"
      ],
      "execution_count": null,
      "outputs": []
    },
    {
      "cell_type": "code",
      "metadata": {
        "id": "URJsF6_YI3JB",
        "colab_type": "code",
        "colab": {}
      },
      "source": [
        ""
      ],
      "execution_count": null,
      "outputs": []
    }
  ]
}
